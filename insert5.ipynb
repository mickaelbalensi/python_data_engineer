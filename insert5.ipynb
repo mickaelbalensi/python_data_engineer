{
 "cells": [
  {
   "cell_type": "markdown",
   "metadata": {},
   "source": [
    "Write a python function that gets a number, and replaces one of the digits with a '5' to achieve the highest number."
   ]
  },
  {
   "cell_type": "code",
   "execution_count": 16,
   "metadata": {},
   "outputs": [
    {
     "name": "stdout",
     "output_type": "stream",
     "text": [
      "123  ->  523\n",
      "512  ->  552\n",
      "152  ->  552\n",
      "125  ->  525\n",
      "550  ->  555\n",
      "505  ->  555\n",
      "55  ->  555\n"
     ]
    }
   ],
   "source": [
    "def insert5(number):\n",
    "    s = str(number)\n",
    "    for i, d in enumerate(s):\n",
    "        if int(d) < 5:\n",
    "            return int(s[:i] + \"5\" + s[i+1:])\n",
    "    return int(s + \"5\")\n",
    "\n",
    "tests = [123, 512, 152, 125, 550, 505, 55]\n",
    "for t in tests:\n",
    "    print(t, ' -> ',  insert5(t))"
   ]
  },
  {
   "cell_type": "code",
   "execution_count": null,
   "metadata": {},
   "outputs": [],
   "source": []
  }
 ],
 "metadata": {
  "kernelspec": {
   "display_name": "Python 3",
   "language": "python",
   "name": "python3"
  },
  "language_info": {
   "codemirror_mode": {
    "name": "ipython",
    "version": 3
   },
   "file_extension": ".py",
   "mimetype": "text/x-python",
   "name": "python",
   "nbconvert_exporter": "python",
   "pygments_lexer": "ipython3",
   "version": "3.10.12"
  }
 },
 "nbformat": 4,
 "nbformat_minor": 2
}
