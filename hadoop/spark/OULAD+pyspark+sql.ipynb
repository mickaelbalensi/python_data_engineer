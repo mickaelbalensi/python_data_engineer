{
 "cells": [
  {
   "cell_type": "code",
   "execution_count": 1,
   "id": "68864fb9-e3be-456f-ab78-a958442d6249",
   "metadata": {},
   "outputs": [
    {
     "name": "stderr",
     "output_type": "stream",
     "text": [
      "25/02/11 22:04:45 WARN Utils: Your hostname, mickael resolves to a loopback address: 127.0.1.1; using 192.168.1.253 instead (on interface wlp2s0)\n",
      "25/02/11 22:04:45 WARN Utils: Set SPARK_LOCAL_IP if you need to bind to another address\n",
      "Setting default log level to \"WARN\".\n",
      "To adjust logging level use sc.setLogLevel(newLevel). For SparkR, use setLogLevel(newLevel).\n",
      "25/02/11 22:04:46 WARN NativeCodeLoader: Unable to load native-hadoop library for your platform... using builtin-java classes where applicable\n"
     ]
    }
   ],
   "source": [
    "from pyspark.sql import functions as F\n",
    "from pyspark.sql import SparkSession\n",
    "\n",
    "spark = SparkSession.builder \\\n",
    "    .appName(\"OULAD Analysis\") \\\n",
    "    .config(\"spark.driver.memory\", \"4g\") \\\n",
    "    .getOrCreate()\n"
   ]
  },
  {
   "cell_type": "code",
   "execution_count": 6,
   "id": "5e6348b7-dba7-42d0-8262-5b2474a4922d",
   "metadata": {},
   "outputs": [
    {
     "name": "stderr",
     "output_type": "stream",
     "text": [
      "                                                                                \r"
     ]
    }
   ],
   "source": [
    "data_courses = spark.read.csv(\"file:///home/mickael/data_engineer/hadoop/oulad/courses.csv\", header=True, inferSchema=True)\n",
    "data_assessments = spark.read.csv(\"file:///home/mickael/data_engineer/hadoop/oulad/assessments.csv\", header=True, inferSchema=True)\n",
    "data_studentAssessment = spark.read.csv(\"file:///home/mickael/data_engineer/hadoop/oulad/studentAssessment.csv\", header=True, inferSchema=True)\n",
    "data_studentInfo = spark.read.csv(\"file:///home/mickael/data_engineer/hadoop/oulad/studentInfo.csv\", header=True, inferSchema=True)\n",
    "data_studentRegistration = spark.read.csv(\"file:///home/mickael/data_engineer/hadoop/oulad/studentRegistration.csv\", header=True, inferSchema=True)"
   ]
  },
  {
   "cell_type": "code",
   "execution_count": 12,
   "id": "e65cfa28",
   "metadata": {},
   "outputs": [
    {
     "name": "stdout",
     "output_type": "stream",
     "text": [
      "+-----------+-----------------+--------------------------+\n",
      "|code_module|code_presentation|module_presentation_length|\n",
      "+-----------+-----------------+--------------------------+\n",
      "|        AAA|            2013J|                       268|\n",
      "|        AAA|            2014J|                       269|\n",
      "|        BBB|            2013J|                       268|\n",
      "+-----------+-----------------+--------------------------+\n",
      "only showing top 3 rows\n",
      "\n",
      "+-----------+-----------------+-------------+---------------+----+------+\n",
      "|code_module|code_presentation|id_assessment|assessment_type|date|weight|\n",
      "+-----------+-----------------+-------------+---------------+----+------+\n",
      "|        AAA|            2013J|         1752|            TMA|  19|  10.0|\n",
      "|        AAA|            2013J|         1753|            TMA|  54|  20.0|\n",
      "|        AAA|            2013J|         1754|            TMA| 117|  20.0|\n",
      "|        AAA|            2013J|         1755|            TMA| 166|  20.0|\n",
      "|        AAA|            2013J|         1756|            TMA| 215|  30.0|\n",
      "|        AAA|            2013J|         1757|           Exam|NULL| 100.0|\n",
      "|        AAA|            2014J|         1758|            TMA|  19|  10.0|\n",
      "|        AAA|            2014J|         1759|            TMA|  54|  20.0|\n",
      "|        AAA|            2014J|         1760|            TMA| 117|  20.0|\n",
      "|        AAA|            2014J|         1761|            TMA| 166|  20.0|\n",
      "|        AAA|            2014J|         1762|            TMA| 215|  30.0|\n",
      "|        AAA|            2014J|         1763|           Exam|NULL| 100.0|\n",
      "|        BBB|            2013B|        14991|            CMA|  54|   1.0|\n",
      "|        BBB|            2013B|        14992|            CMA|  89|   1.0|\n",
      "|        BBB|            2013B|        14993|            CMA| 124|   1.0|\n",
      "+-----------+-----------------+-------------+---------------+----+------+\n",
      "only showing top 15 rows\n",
      "\n"
     ]
    }
   ],
   "source": [
    "data_courses.show(3)\n",
    "data_assessments.show(15)"
   ]
  },
  {
   "cell_type": "code",
   "execution_count": 67,
   "id": "a2d4e90a",
   "metadata": {},
   "outputs": [
    {
     "name": "stdout",
     "output_type": "stream",
     "text": [
      "+-------------+----------+--------------+---------+-----+\n",
      "|id_assessment|id_student|date_submitted|is_banked|score|\n",
      "+-------------+----------+--------------+---------+-----+\n",
      "|         1752|     11391|            18|        0|   78|\n",
      "|         1752|     28400|            22|        0|   70|\n",
      "|         1752|     31604|            17|        0|   72|\n",
      "|         1752|     32885|            26|        0|   69|\n",
      "|         1752|     38053|            19|        0|   79|\n",
      "+-------------+----------+--------------+---------+-----+\n",
      "only showing top 5 rows\n",
      "\n",
      "+-----------+-----------------+----------+------+--------------------+--------------------+--------+--------+--------------------+---------------+----------+------------+\n",
      "|code_module|code_presentation|id_student|gender|              region|   highest_education|imd_band|age_band|num_of_prev_attempts|studied_credits|disability|final_result|\n",
      "+-----------+-----------------+----------+------+--------------------+--------------------+--------+--------+--------------------+---------------+----------+------------+\n",
      "|        AAA|            2013J|     11391|     M| East Anglian Region|    HE Qualification| 90-100%|    55<=|                   0|            240|         N|        Pass|\n",
      "|        AAA|            2013J|     28400|     F|            Scotland|    HE Qualification|  20-30%|   35-55|                   0|             60|         N|        Pass|\n",
      "|        AAA|            2013J|     30268|     F|North Western Region|A Level or Equiva...|  30-40%|   35-55|                   0|             60|         Y|   Withdrawn|\n",
      "|        AAA|            2013J|     31604|     F|   South East Region|A Level or Equiva...|  50-60%|   35-55|                   0|             60|         N|        Pass|\n",
      "|        AAA|            2013J|     32885|     F|West Midlands Region|  Lower Than A Level|  50-60%|    0-35|                   0|             60|         N|        Pass|\n",
      "+-----------+-----------------+----------+------+--------------------+--------------------+--------+--------+--------------------+---------------+----------+------------+\n",
      "only showing top 5 rows\n",
      "\n"
     ]
    }
   ],
   "source": [
    "data_studentAssessment.show(5)\n",
    "data_studentInfo.show(5)"
   ]
  },
  {
   "cell_type": "code",
   "execution_count": 68,
   "id": "1faf00b1",
   "metadata": {},
   "outputs": [
    {
     "name": "stdout",
     "output_type": "stream",
     "text": [
      "+-----------+-----------------+----------+-----------------+-------------------+\n",
      "|code_module|code_presentation|id_student|date_registration|date_unregistration|\n",
      "+-----------+-----------------+----------+-----------------+-------------------+\n",
      "|        AAA|            2013J|     11391|             -159|               NULL|\n",
      "|        AAA|            2013J|     28400|              -53|               NULL|\n",
      "|        AAA|            2013J|     30268|              -92|                 12|\n",
      "|        AAA|            2013J|     31604|              -52|               NULL|\n",
      "|        AAA|            2013J|     32885|             -176|               NULL|\n",
      "+-----------+-----------------+----------+-----------------+-------------------+\n",
      "only showing top 5 rows\n",
      "\n"
     ]
    }
   ],
   "source": [
    "data_studentRegistration.show(5)\n"
   ]
  },
  {
   "cell_type": "markdown",
   "id": "ba096cd3",
   "metadata": {},
   "source": [
    "## **Basic** SQL Questions"
   ]
  },
  {
   "cell_type": "markdown",
   "id": "a4c29a55",
   "metadata": {},
   "source": [
    "### 2. Find the number of students enrolled in each course.\n"
   ]
  },
  {
   "cell_type": "code",
   "execution_count": 19,
   "id": "38798818",
   "metadata": {},
   "outputs": [
    {
     "name": "stdout",
     "output_type": "stream",
     "text": [
      "+-----------+-----------------+-----+\n",
      "|code_module|code_presentation|count|\n",
      "+-----------+-----------------+-----+\n",
      "|        FFF|            2013J| 2283|\n",
      "|        BBB|            2013J| 2237|\n",
      "|        BBB|            2014J| 2292|\n",
      "|        EEE|            2014J| 1188|\n",
      "|        BBB|            2014B| 1613|\n",
      "+-----------+-----------------+-----+\n",
      "only showing top 5 rows\n",
      "\n"
     ]
    }
   ],
   "source": [
    "# - Find the number of students enrolled in each course.\n",
    "data_studentInfo.createOrReplaceTempView(\"studentInfo\")\n",
    "\n",
    "spark.sql(\"select code_module, code_presentation, count(id_student) as count from studentInfo group by code_module, code_presentation\").show(5)"
   ]
  },
  {
   "cell_type": "code",
   "execution_count": 18,
   "id": "5ff31b2d",
   "metadata": {},
   "outputs": [
    {
     "name": "stdout",
     "output_type": "stream",
     "text": [
      "+-----------+-----------------+-----+\n",
      "|code_module|code_presentation|count|\n",
      "+-----------+-----------------+-----+\n",
      "|        FFF|            2013J| 2283|\n",
      "|        BBB|            2013J| 2237|\n",
      "|        BBB|            2014J| 2292|\n",
      "|        EEE|            2014J| 1188|\n",
      "|        BBB|            2014B| 1613|\n",
      "+-----------+-----------------+-----+\n",
      "only showing top 5 rows\n",
      "\n"
     ]
    }
   ],
   "source": [
    "data_studentInfo.select(\"code_module\", \"code_presentation\").groupBy(\"code_module\", \"code_presentation\").count().show(5)\n"
   ]
  },
  {
   "cell_type": "markdown",
   "id": "0d8b931f",
   "metadata": {},
   "source": [
    "### 4.Find the distinct modules available.\n"
   ]
  },
  {
   "cell_type": "code",
   "execution_count": 30,
   "id": "8beae8fd-1375-414c-a9bc-15b0a219d913",
   "metadata": {},
   "outputs": [
    {
     "name": "stdout",
     "output_type": "stream",
     "text": [
      "+-----------+\n",
      "|code_module|\n",
      "+-----------+\n",
      "|        CCC|\n",
      "|        BBB|\n",
      "|        DDD|\n",
      "|        FFF|\n",
      "|        EEE|\n",
      "|        AAA|\n",
      "|        GGG|\n",
      "+-----------+\n",
      "\n"
     ]
    }
   ],
   "source": [
    "data_courses.select(\"code_module\").distinct().show()"
   ]
  },
  {
   "cell_type": "code",
   "execution_count": 29,
   "id": "0b50c5f2",
   "metadata": {},
   "outputs": [
    {
     "name": "stdout",
     "output_type": "stream",
     "text": [
      "+-----------+\n",
      "|code_module|\n",
      "+-----------+\n",
      "|        CCC|\n",
      "|        BBB|\n",
      "|        DDD|\n",
      "|        FFF|\n",
      "|        EEE|\n",
      "|        AAA|\n",
      "|        GGG|\n",
      "+-----------+\n",
      "\n"
     ]
    }
   ],
   "source": [
    "data_courses.createOrReplaceTempView(\"courses\")\n",
    "spark.sql(\"select code_module from courses group by code_module \").show()"
   ]
  },
  {
   "cell_type": "code",
   "execution_count": 32,
   "id": "fa269ce0",
   "metadata": {},
   "outputs": [
    {
     "name": "stdout",
     "output_type": "stream",
     "text": [
      "+-----------+-----------------+----------+------+--------------------+--------------------+--------+--------+--------------------+---------------+----------+------------+\n",
      "|code_module|code_presentation|id_student|gender|              region|   highest_education|imd_band|age_band|num_of_prev_attempts|studied_credits|disability|final_result|\n",
      "+-----------+-----------------+----------+------+--------------------+--------------------+--------+--------+--------------------+---------------+----------+------------+\n",
      "|        AAA|            2013J|     11391|     M| East Anglian Region|    HE Qualification| 90-100%|    55<=|                   0|            240|         N|        Pass|\n",
      "|        AAA|            2013J|     28400|     F|            Scotland|    HE Qualification|  20-30%|   35-55|                   0|             60|         N|        Pass|\n",
      "|        AAA|            2013J|     30268|     F|North Western Region|A Level or Equiva...|  30-40%|   35-55|                   0|             60|         Y|   Withdrawn|\n",
      "|        AAA|            2013J|     31604|     F|   South East Region|A Level or Equiva...|  50-60%|   35-55|                   0|             60|         N|        Pass|\n",
      "|        AAA|            2013J|     32885|     F|West Midlands Region|  Lower Than A Level|  50-60%|    0-35|                   0|             60|         N|        Pass|\n",
      "+-----------+-----------------+----------+------+--------------------+--------------------+--------+--------+--------------------+---------------+----------+------------+\n",
      "only showing top 5 rows\n",
      "\n"
     ]
    }
   ],
   "source": [
    "data_studentInfo.show(5)"
   ]
  },
  {
   "cell_type": "markdown",
   "id": "788a3b4d",
   "metadata": {},
   "source": [
    "### 6. Get all students who have withdrawn from their course\n"
   ]
  },
  {
   "cell_type": "code",
   "execution_count": 34,
   "id": "e574d9f1",
   "metadata": {},
   "outputs": [
    {
     "name": "stdout",
     "output_type": "stream",
     "text": [
      "+-----------+-----------------+----------+\n",
      "|code_module|code_presentation|id_student|\n",
      "+-----------+-----------------+----------+\n",
      "|        AAA|            2013J|     30268|\n",
      "|        AAA|            2013J|     65002|\n",
      "|        AAA|            2013J|     94961|\n",
      "|        AAA|            2013J|    106247|\n",
      "|        AAA|            2013J|    129955|\n",
      "+-----------+-----------------+----------+\n",
      "only showing top 5 rows\n",
      "\n"
     ]
    }
   ],
   "source": [
    "spark.sql(\"select code_module, code_presentation, id_student from studentInfo where final_result = 'Withdrawn'\").show(5)"
   ]
  },
  {
   "cell_type": "code",
   "execution_count": 39,
   "id": "49d9d677",
   "metadata": {},
   "outputs": [
    {
     "name": "stdout",
     "output_type": "stream",
     "text": [
      "+-----------+-----------------+----------+\n",
      "|code_module|code_presentation|id_student|\n",
      "+-----------+-----------------+----------+\n",
      "|        AAA|            2013J|     30268|\n",
      "|        AAA|            2013J|     65002|\n",
      "|        AAA|            2013J|     94961|\n",
      "|        AAA|            2013J|    106247|\n",
      "|        AAA|            2013J|    129955|\n",
      "+-----------+-----------------+----------+\n",
      "only showing top 5 rows\n",
      "\n"
     ]
    }
   ],
   "source": [
    "data_studentInfo.select(\"code_module\", \"code_presentation\", \"id_student\").filter(data_studentInfo.final_result == 'Withdrawn').show(5)"
   ]
  },
  {
   "cell_type": "markdown",
   "id": "297fc3f7",
   "metadata": {},
   "source": [
    "### 8. List students who registered late (after course start date).\n"
   ]
  },
  {
   "cell_type": "code",
   "execution_count": 44,
   "id": "361553d8",
   "metadata": {},
   "outputs": [
    {
     "name": "stdout",
     "output_type": "stream",
     "text": [
      "+-----------+-----------------+----------+\n",
      "|code_module|code_presentation|id_student|\n",
      "+-----------+-----------------+----------+\n",
      "|        AAA|            2013J|    106247|\n",
      "|        AAA|            2013J|    236284|\n",
      "|        AAA|            2013J|    341872|\n",
      "|        AAA|            2013J|   1472925|\n",
      "|        AAA|            2014J|    199897|\n",
      "+-----------+-----------------+----------+\n",
      "only showing top 5 rows\n",
      "\n"
     ]
    }
   ],
   "source": [
    "data_studentRegistration.select(\"code_module\", \"code_presentation\", \"id_student\").filter(data_studentRegistration.date_registration > 0).show(5)"
   ]
  },
  {
   "cell_type": "code",
   "execution_count": 45,
   "id": "f86b8ccd",
   "metadata": {},
   "outputs": [
    {
     "name": "stdout",
     "output_type": "stream",
     "text": [
      "+-----------+-----------------+----------+\n",
      "|code_module|code_presentation|id_student|\n",
      "+-----------+-----------------+----------+\n",
      "|        AAA|            2013J|    106247|\n",
      "|        AAA|            2013J|    236284|\n",
      "|        AAA|            2013J|    341872|\n",
      "|        AAA|            2013J|   1472925|\n",
      "|        AAA|            2014J|    199897|\n",
      "+-----------+-----------------+----------+\n",
      "only showing top 5 rows\n",
      "\n"
     ]
    }
   ],
   "source": [
    "data_studentRegistration.createOrReplaceTempView(\"studentRegistration\")\n",
    "spark.sql(\"select code_module, code_presentation, id_student from studentRegistration where date_registration > 0 \").show(5)"
   ]
  },
  {
   "cell_type": "markdown",
   "id": "db8121e5",
   "metadata": {},
   "source": [
    "### 10. Get the number of assessment submissions per student.\n"
   ]
  },
  {
   "cell_type": "code",
   "execution_count": 55,
   "id": "0627d81b",
   "metadata": {},
   "outputs": [
    {
     "name": "stdout",
     "output_type": "stream",
     "text": [
      "+----------+-----+\n",
      "|id_student|count|\n",
      "+----------+-----+\n",
      "|    180753|    5|\n",
      "|    324084|    5|\n",
      "|   2057803|    5|\n",
      "|    486656|   11|\n",
      "|    502604|   11|\n",
      "+----------+-----+\n",
      "only showing top 5 rows\n",
      "\n"
     ]
    }
   ],
   "source": [
    "data_studentAssessment.select(\"id_student\").groupby(\"id_student\").count().show(5)"
   ]
  },
  {
   "cell_type": "code",
   "execution_count": 56,
   "id": "4058d8c1",
   "metadata": {},
   "outputs": [
    {
     "name": "stdout",
     "output_type": "stream",
     "text": [
      "+----------+-----+\n",
      "|id_student|count|\n",
      "+----------+-----+\n",
      "|    180753|    5|\n",
      "|    324084|    5|\n",
      "|   2057803|    5|\n",
      "|    486656|   11|\n",
      "|    502604|   11|\n",
      "+----------+-----+\n",
      "only showing top 5 rows\n",
      "\n"
     ]
    }
   ],
   "source": [
    "data_studentAssessment.createOrReplaceTempView(\"studentAssessment\")\n",
    "spark.sql(\"select id_student, count(*) as count from studentAssessment group by id_student\").show(5)"
   ]
  },
  {
   "cell_type": "markdown",
   "id": "a52e8a10",
   "metadata": {},
   "source": [
    "### 12. Find all assessments of module ‘AAA’.\n"
   ]
  },
  {
   "cell_type": "code",
   "execution_count": 57,
   "id": "75e227ec",
   "metadata": {},
   "outputs": [
    {
     "name": "stdout",
     "output_type": "stream",
     "text": [
      "+-----------+-----------------+-------------+---------------+----+------+\n",
      "|code_module|code_presentation|id_assessment|assessment_type|date|weight|\n",
      "+-----------+-----------------+-------------+---------------+----+------+\n",
      "|        AAA|            2013J|         1752|            TMA|  19|  10.0|\n",
      "|        AAA|            2013J|         1753|            TMA|  54|  20.0|\n",
      "|        AAA|            2013J|         1754|            TMA| 117|  20.0|\n",
      "|        AAA|            2013J|         1755|            TMA| 166|  20.0|\n",
      "|        AAA|            2013J|         1756|            TMA| 215|  30.0|\n",
      "|        AAA|            2013J|         1757|           Exam|NULL| 100.0|\n",
      "|        AAA|            2014J|         1758|            TMA|  19|  10.0|\n",
      "|        AAA|            2014J|         1759|            TMA|  54|  20.0|\n",
      "|        AAA|            2014J|         1760|            TMA| 117|  20.0|\n",
      "|        AAA|            2014J|         1761|            TMA| 166|  20.0|\n",
      "|        AAA|            2014J|         1762|            TMA| 215|  30.0|\n",
      "|        AAA|            2014J|         1763|           Exam|NULL| 100.0|\n",
      "|        BBB|            2013B|        14991|            CMA|  54|   1.0|\n",
      "|        BBB|            2013B|        14992|            CMA|  89|   1.0|\n",
      "|        BBB|            2013B|        14993|            CMA| 124|   1.0|\n",
      "|        BBB|            2013B|        14994|            CMA| 159|   1.0|\n",
      "|        BBB|            2013B|        14995|            CMA| 187|   1.0|\n",
      "|        BBB|            2013B|        14984|            TMA|  19|   5.0|\n",
      "|        BBB|            2013B|        14985|            TMA|  47|  18.0|\n",
      "|        BBB|            2013B|        14986|            TMA|  89|  18.0|\n",
      "+-----------+-----------------+-------------+---------------+----+------+\n",
      "only showing top 20 rows\n",
      "\n"
     ]
    }
   ],
   "source": [
    "data_assessments.show()"
   ]
  },
  {
   "cell_type": "code",
   "execution_count": 58,
   "id": "8231655e",
   "metadata": {},
   "outputs": [
    {
     "name": "stdout",
     "output_type": "stream",
     "text": [
      "+-----------+-----------------+-------------+---------------+----+------+\n",
      "|code_module|code_presentation|id_assessment|assessment_type|date|weight|\n",
      "+-----------+-----------------+-------------+---------------+----+------+\n",
      "|        AAA|            2013J|         1752|            TMA|  19|  10.0|\n",
      "|        AAA|            2013J|         1753|            TMA|  54|  20.0|\n",
      "|        AAA|            2013J|         1754|            TMA| 117|  20.0|\n",
      "|        AAA|            2013J|         1755|            TMA| 166|  20.0|\n",
      "|        AAA|            2013J|         1756|            TMA| 215|  30.0|\n",
      "|        AAA|            2013J|         1757|           Exam|NULL| 100.0|\n",
      "|        AAA|            2014J|         1758|            TMA|  19|  10.0|\n",
      "|        AAA|            2014J|         1759|            TMA|  54|  20.0|\n",
      "|        AAA|            2014J|         1760|            TMA| 117|  20.0|\n",
      "|        AAA|            2014J|         1761|            TMA| 166|  20.0|\n",
      "|        AAA|            2014J|         1762|            TMA| 215|  30.0|\n",
      "|        AAA|            2014J|         1763|           Exam|NULL| 100.0|\n",
      "+-----------+-----------------+-------------+---------------+----+------+\n",
      "\n"
     ]
    }
   ],
   "source": [
    "data_assessments.createOrReplaceTempView(\"assessments\")\n",
    "spark.sql(\"select * from assessments where code_module = 'AAA'\").show()"
   ]
  },
  {
   "cell_type": "markdown",
   "id": "ad0e893a",
   "metadata": {},
   "source": [
    "## **Intermediate** SQL Questions\n",
    "\n"
   ]
  },
  {
   "cell_type": "markdown",
   "id": "8bae8757",
   "metadata": {},
   "source": [
    "### 1. Get the average score per module.\n"
   ]
  },
  {
   "cell_type": "code",
   "execution_count": 5,
   "id": "6b77b55c",
   "metadata": {},
   "outputs": [
    {
     "name": "stderr",
     "output_type": "stream",
     "text": [
      "[Stage 11:>                                                         (0 + 2) / 2]\r"
     ]
    },
    {
     "name": "stdout",
     "output_type": "stream",
     "text": [
      "+-----------+-----------------+\n",
      "|code_module|              avg|\n",
      "+-----------+-----------------+\n",
      "|        CCC| 73.2613978551429|\n",
      "|        BBB| 76.7063682263431|\n",
      "|        DDD|70.09079993509654|\n",
      "|        FFF|77.70759006007047|\n",
      "|        EEE|81.18006593963987|\n",
      "|        AAA|69.03051493960585|\n",
      "|        GGG|79.70049293460401|\n",
      "+-----------+-----------------+\n",
      "\n"
     ]
    },
    {
     "name": "stderr",
     "output_type": "stream",
     "text": [
      "                                                                                \r"
     ]
    }
   ],
   "source": [
    "data_studentAssessment.createOrReplaceTempView(\"studentAssessment\")\n",
    "data_assessments.createOrReplaceTempView(\"assessments\")\n",
    "\n",
    "\n",
    "spark.sql(\"select a.code_module, AVG(sa.score) as avg from assessments a join studentAssessment sa on a.id_assessment = sa.id_assessment group by a.code_module\").show()"
   ]
  },
  {
   "cell_type": "code",
   "execution_count": 6,
   "id": "1aa242bc",
   "metadata": {},
   "outputs": [
    {
     "name": "stderr",
     "output_type": "stream",
     "text": [
      "[Stage 15:=============================>                            (1 + 1) / 2]\r"
     ]
    },
    {
     "name": "stdout",
     "output_type": "stream",
     "text": [
      "+-----------+-----------------+\n",
      "|code_module|       avg(score)|\n",
      "+-----------+-----------------+\n",
      "|        CCC| 73.2613978551429|\n",
      "|        BBB| 76.7063682263431|\n",
      "|        DDD|70.09079993509654|\n",
      "|        FFF|77.70759006007047|\n",
      "|        EEE|81.18006593963987|\n",
      "|        AAA|69.03051493960585|\n",
      "|        GGG|79.70049293460401|\n",
      "+-----------+-----------------+\n",
      "\n"
     ]
    },
    {
     "name": "stderr",
     "output_type": "stream",
     "text": [
      "                                                                                \r"
     ]
    }
   ],
   "source": [
    "data_studentAssessment.join(data_assessments, data_studentAssessment.id_assessment == data_assessments.id_assessment).groupby(\"code_module\").agg({\"score\": \"avg\"}).show()"
   ]
  },
  {
   "cell_type": "markdown",
   "id": "23cd060f",
   "metadata": {},
   "source": [
    "### 2.Find the students who scored the highest in any assessment.\n"
   ]
  },
  {
   "cell_type": "code",
   "execution_count": 10,
   "id": "64188d30",
   "metadata": {},
   "outputs": [
    {
     "name": "stdout",
     "output_type": "stream",
     "text": [
      "+-------------+---------+\n",
      "|id_assessment|max_score|\n",
      "+-------------+---------+\n",
      "|        15003|      100|\n",
      "|        15004|      100|\n",
      "|        34878|      100|\n",
      "|        14997|       96|\n",
      "|        34870|      100|\n",
      "+-------------+---------+\n",
      "only showing top 5 rows\n",
      "\n",
      "+-------------+---------+-------------+----------+--------------+---------+-----+\n",
      "|id_assessment|max_score|id_assessment|id_student|date_submitted|is_banked|score|\n",
      "+-------------+---------+-------------+----------+--------------+---------+-----+\n",
      "|         1752|       94|         1752|   2555340|            18|        0|   94|\n",
      "|         1753|       95|         1753|    296332|            52|        0|   95|\n",
      "|         1754|       95|         1754|   2458355|           117|        0|   95|\n",
      "|         1755|       94|         1755|    376439|           166|        0|   94|\n",
      "|         1755|       94|         1755|   2694424|           162|        0|   94|\n",
      "|         1756|       98|         1756|   2536991|           215|        0|   98|\n",
      "|         1758|       90|         1758|   2010232|            19|        0|   90|\n",
      "|         1758|       90|         1758|    248581|            19|        0|   90|\n",
      "|         1758|       90|         1758|    439305|            23|        0|   90|\n",
      "|         1759|       95|         1759|    342007|            58|        0|   95|\n",
      "|         1760|       94|         1760|    485962|           117|        0|   94|\n",
      "|         1761|       92|         1761|    527100|           165|        0|   92|\n",
      "|         1762|       95|         1762|    527100|           215|        0|   95|\n",
      "|        14984|       99|        14984|    561161|            18|        0|   99|\n",
      "|        14985|      100|        14985|   2617596|            47|        0|  100|\n",
      "|        14986|      100|        14986|   1436591|            75|        0|  100|\n",
      "|        14986|      100|        14986|   2236738|            89|        0|  100|\n",
      "|        14987|      100|        14987|   1436591|           120|        0|  100|\n",
      "|        14987|      100|        14987|    484933|           122|        0|  100|\n",
      "|        14988|      100|        14988|   1436591|           155|        0|  100|\n",
      "+-------------+---------+-------------+----------+--------------+---------+-----+\n",
      "only showing top 20 rows\n",
      "\n"
     ]
    }
   ],
   "source": [
    "max_scores = data_studentAssessment.groupby(\"id_assessment\") \\\n",
    "    .agg(F.max(\"score\").alias(\"max_score\"))\n",
    "\n",
    "max_scores.show(5)\n",
    "\n",
    "max_scores.join(data_studentAssessment, \n",
    "    (data_studentAssessment.id_assessment == max_scores.id_assessment)\n",
    "    & (data_studentAssessment.score == max_scores.max_score)\n",
    "    ).show() "
   ]
  },
  {
   "cell_type": "markdown",
   "id": "3a1cd79a",
   "metadata": {},
   "source": [
    "### 3. Calculate the overall average score of students who passed.\n"
   ]
  },
  {
   "cell_type": "code",
   "execution_count": 21,
   "id": "64075724",
   "metadata": {},
   "outputs": [
    {
     "name": "stdout",
     "output_type": "stream",
     "text": [
      "+-------------+-----------------+\n",
      "|id_assessment|       avg(score)|\n",
      "+-------------+-----------------+\n",
      "|        24299|78.56521739130434|\n",
      "|        25340|67.14973262032086|\n",
      "|        24290|79.94405594405595|\n",
      "|        25354|72.13026315789473|\n",
      "|        25361|75.16247139588101|\n",
      "|        25368|71.98863636363636|\n",
      "+-------------+-----------------+\n",
      "\n"
     ]
    }
   ],
   "source": [
    "data_studentAssessment.join(data_assessments, data_studentAssessment.id_assessment == data_assessments.id_assessment).filter((data_assessments.assessment_type == \"Exam\") & (data_studentAssessment.score > 50)).groupby(data_assessments.id_assessment).agg({\"score\": \"avg\"}).show()"
   ]
  },
  {
   "cell_type": "markdown",
   "id": "bd28acb1",
   "metadata": {},
   "source": [
    "### 4. Find courses where more than 50% of students passed.\n",
    "### 5. Find students with a final result of ‘Distinction’ but never submitted an assessment.\n",
    "### 6. Find assessments where more than 80% of students scored below 50.\n",
    "### 7. Find students who submitted the same assessment multiple times.\n",
    "### 8. Find courses with the highest dropout rate.\n",
    "### 9. Calculate the number of interactions (clicks) per student.\n",
    "### 10. Find the median score per module.\n",
    "### 11. Calculate submission delay patterns.\n",
    "### 12. Compare performance across age bands."
   ]
  }
 ],
 "metadata": {
  "kernelspec": {
   "display_name": "Python 3",
   "language": "python",
   "name": "python3"
  },
  "language_info": {
   "codemirror_mode": {
    "name": "ipython",
    "version": 3
   },
   "file_extension": ".py",
   "mimetype": "text/x-python",
   "name": "python",
   "nbconvert_exporter": "python",
   "pygments_lexer": "ipython3",
   "version": "3.10.12"
  }
 },
 "nbformat": 4,
 "nbformat_minor": 5
}
