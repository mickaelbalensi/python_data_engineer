{
 "cells": [
  {
   "cell_type": "code",
   "execution_count": 22,
   "id": "68864fb9-e3be-456f-ab78-a958442d6249",
   "metadata": {},
   "outputs": [],
   "source": [
    "from pyspark.sql import functions as F\n",
    "from pyspark.sql import SparkSession\n",
    "\n",
    "spark = SparkSession.builder \\\n",
    "    .appName(\"OULAD Analysis\") \\\n",
    "    .config(\"spark.driver.memory\", \"4g\") \\\n",
    "    .getOrCreate()\n"
   ]
  },
  {
   "cell_type": "code",
   "execution_count": 23,
   "id": "5e6348b7-dba7-42d0-8262-5b2474a4922d",
   "metadata": {},
   "outputs": [],
   "source": [
    "data_courses = spark.read.csv(\"file:///home/studen/mickael/python_data_engineer/hadoop/spark/OULAD\\ dataset/courses.csv\", header=True, inferSchema=True)\n",
    "data_assessments = spark.read.csv(\"file:///home/studen/mickael/python_data_engineer/hadoop/spark/OULAD\\ dataset/assessments.csv\", header=True, inferSchema=True)\n",
    "data_studentAssessment = spark.read.csv(\"file:///home/studen/mickael/python_data_engineer/hadoop/spark/OULAD\\ dataset/studentAssessment.csv\", header=True, inferSchema=True)\n",
    "data_studentInfo = spark.read.csv(\"file:///home/studen/mickael/python_data_engineer/hadoop/spark/OULAD\\ dataset/studentInfo.csv\", header=True, inferSchema=True)\n",
    "data_studentRegistration = spark.read.csv(\"file:///home/studen/mickael/python_data_engineer/hadoop/spark/OULAD\\ dataset/studentRegistration.csv\", header=True, inferSchema=True)"
   ]
  },
  {
   "cell_type": "code",
   "execution_count": 24,
   "id": "e65cfa28",
   "metadata": {},
   "outputs": [
    {
     "name": "stdout",
     "output_type": "stream",
     "text": [
      "+-----------+-----------------+--------------------------+\n",
      "|code_module|code_presentation|module_presentation_length|\n",
      "+-----------+-----------------+--------------------------+\n",
      "|        AAA|            2013J|                       268|\n",
      "|        AAA|            2014J|                       269|\n",
      "|        BBB|            2013J|                       268|\n",
      "+-----------+-----------------+--------------------------+\n",
      "only showing top 3 rows\n",
      "\n",
      "+-----------+-----------------+-------------+---------------+----+------+\n",
      "|code_module|code_presentation|id_assessment|assessment_type|date|weight|\n",
      "+-----------+-----------------+-------------+---------------+----+------+\n",
      "|        AAA|            2013J|         1752|            TMA|  19|  10.0|\n",
      "|        AAA|            2013J|         1753|            TMA|  54|  20.0|\n",
      "|        AAA|            2013J|         1754|            TMA| 117|  20.0|\n",
      "|        AAA|            2013J|         1755|            TMA| 166|  20.0|\n",
      "|        AAA|            2013J|         1756|            TMA| 215|  30.0|\n",
      "|        AAA|            2013J|         1757|           Exam|NULL| 100.0|\n",
      "|        AAA|            2014J|         1758|            TMA|  19|  10.0|\n",
      "|        AAA|            2014J|         1759|            TMA|  54|  20.0|\n",
      "|        AAA|            2014J|         1760|            TMA| 117|  20.0|\n",
      "|        AAA|            2014J|         1761|            TMA| 166|  20.0|\n",
      "|        AAA|            2014J|         1762|            TMA| 215|  30.0|\n",
      "|        AAA|            2014J|         1763|           Exam|NULL| 100.0|\n",
      "|        BBB|            2013B|        14991|            CMA|  54|   1.0|\n",
      "|        BBB|            2013B|        14992|            CMA|  89|   1.0|\n",
      "|        BBB|            2013B|        14993|            CMA| 124|   1.0|\n",
      "+-----------+-----------------+-------------+---------------+----+------+\n",
      "only showing top 15 rows\n",
      "\n"
     ]
    }
   ],
   "source": [
    "data_courses.show(3)\n",
    "data_assessments.show(15)"
   ]
  },
  {
   "cell_type": "code",
   "execution_count": 25,
   "id": "a2d4e90a",
   "metadata": {},
   "outputs": [
    {
     "name": "stdout",
     "output_type": "stream",
     "text": [
      "+-------------+----------+--------------+---------+-----+\n",
      "|id_assessment|id_student|date_submitted|is_banked|score|\n",
      "+-------------+----------+--------------+---------+-----+\n",
      "|         1752|     11391|            18|        0|   78|\n",
      "|         1752|     28400|            22|        0|   70|\n",
      "|         1752|     31604|            17|        0|   72|\n",
      "|         1752|     32885|            26|        0|   69|\n",
      "|         1752|     38053|            19|        0|   79|\n",
      "+-------------+----------+--------------+---------+-----+\n",
      "only showing top 5 rows\n",
      "\n",
      "+-----------+-----------------+----------+------+--------------------+--------------------+--------+--------+--------------------+---------------+----------+------------+\n",
      "|code_module|code_presentation|id_student|gender|              region|   highest_education|imd_band|age_band|num_of_prev_attempts|studied_credits|disability|final_result|\n",
      "+-----------+-----------------+----------+------+--------------------+--------------------+--------+--------+--------------------+---------------+----------+------------+\n",
      "|        AAA|            2013J|     11391|     M| East Anglian Region|    HE Qualification| 90-100%|    55<=|                   0|            240|         N|        Pass|\n",
      "|        AAA|            2013J|     28400|     F|            Scotland|    HE Qualification|  20-30%|   35-55|                   0|             60|         N|        Pass|\n",
      "|        AAA|            2013J|     30268|     F|North Western Region|A Level or Equiva...|  30-40%|   35-55|                   0|             60|         Y|   Withdrawn|\n",
      "|        AAA|            2013J|     31604|     F|   South East Region|A Level or Equiva...|  50-60%|   35-55|                   0|             60|         N|        Pass|\n",
      "|        AAA|            2013J|     32885|     F|West Midlands Region|  Lower Than A Level|  50-60%|    0-35|                   0|             60|         N|        Pass|\n",
      "+-----------+-----------------+----------+------+--------------------+--------------------+--------+--------+--------------------+---------------+----------+------------+\n",
      "only showing top 5 rows\n",
      "\n"
     ]
    }
   ],
   "source": [
    "data_studentAssessment.show(5)\n",
    "data_studentInfo.show(5)"
   ]
  },
  {
   "cell_type": "code",
   "execution_count": 26,
   "id": "1faf00b1",
   "metadata": {},
   "outputs": [
    {
     "name": "stdout",
     "output_type": "stream",
     "text": [
      "+-----------+-----------------+----------+-----------------+-------------------+\n",
      "|code_module|code_presentation|id_student|date_registration|date_unregistration|\n",
      "+-----------+-----------------+----------+-----------------+-------------------+\n",
      "|        AAA|            2013J|     11391|             -159|               NULL|\n",
      "|        AAA|            2013J|     28400|              -53|               NULL|\n",
      "|        AAA|            2013J|     30268|              -92|                 12|\n",
      "|        AAA|            2013J|     31604|              -52|               NULL|\n",
      "|        AAA|            2013J|     32885|             -176|               NULL|\n",
      "+-----------+-----------------+----------+-----------------+-------------------+\n",
      "only showing top 5 rows\n",
      "\n"
     ]
    }
   ],
   "source": [
    "data_studentRegistration.show(5)\n"
   ]
  },
  {
   "cell_type": "markdown",
   "id": "ba096cd3",
   "metadata": {},
   "source": [
    "## **Basic** SQL Questions"
   ]
  },
  {
   "cell_type": "markdown",
   "id": "a4c29a55",
   "metadata": {},
   "source": [
    "### 2. Find the number of students enrolled in each course.\n"
   ]
  },
  {
   "cell_type": "code",
   "execution_count": 27,
   "id": "38798818",
   "metadata": {},
   "outputs": [
    {
     "name": "stdout",
     "output_type": "stream",
     "text": [
      "+-----------+-----------------+-----+\n",
      "|code_module|code_presentation|count|\n",
      "+-----------+-----------------+-----+\n",
      "|        FFF|            2013J| 2283|\n",
      "|        BBB|            2013J| 2237|\n",
      "|        BBB|            2014J| 2292|\n",
      "|        EEE|            2014J| 1188|\n",
      "|        BBB|            2014B| 1613|\n",
      "+-----------+-----------------+-----+\n",
      "only showing top 5 rows\n",
      "\n"
     ]
    }
   ],
   "source": [
    "# - Find the number of students enrolled in each course.\n",
    "data_studentInfo.createOrReplaceTempView(\"studentInfo\")\n",
    "\n",
    "spark.sql(\"select code_module, code_presentation, count(id_student) as count from studentInfo group by code_module, code_presentation\").show(5)"
   ]
  },
  {
   "cell_type": "code",
   "execution_count": 28,
   "id": "5ff31b2d",
   "metadata": {},
   "outputs": [
    {
     "name": "stdout",
     "output_type": "stream",
     "text": [
      "+-----------+-----------------+-----+\n",
      "|code_module|code_presentation|count|\n",
      "+-----------+-----------------+-----+\n",
      "|        FFF|            2013J| 2283|\n",
      "|        BBB|            2013J| 2237|\n",
      "|        BBB|            2014J| 2292|\n",
      "|        EEE|            2014J| 1188|\n",
      "|        BBB|            2014B| 1613|\n",
      "+-----------+-----------------+-----+\n",
      "only showing top 5 rows\n",
      "\n"
     ]
    }
   ],
   "source": [
    "data_studentInfo.select(\"code_module\", \"code_presentation\").groupBy(\"code_module\", \"code_presentation\").count().show(5)\n"
   ]
  },
  {
   "cell_type": "markdown",
   "id": "0d8b931f",
   "metadata": {},
   "source": [
    "### 4.Find the distinct modules available.\n"
   ]
  },
  {
   "cell_type": "code",
   "execution_count": 29,
   "id": "8beae8fd-1375-414c-a9bc-15b0a219d913",
   "metadata": {},
   "outputs": [
    {
     "name": "stdout",
     "output_type": "stream",
     "text": [
      "+-----------+\n",
      "|code_module|\n",
      "+-----------+\n",
      "|        CCC|\n",
      "|        BBB|\n",
      "|        DDD|\n",
      "|        FFF|\n",
      "|        EEE|\n",
      "|        AAA|\n",
      "|        GGG|\n",
      "+-----------+\n",
      "\n"
     ]
    }
   ],
   "source": [
    "data_courses.select(\"code_module\").distinct().show()"
   ]
  },
  {
   "cell_type": "code",
   "execution_count": 30,
   "id": "0b50c5f2",
   "metadata": {},
   "outputs": [
    {
     "name": "stdout",
     "output_type": "stream",
     "text": [
      "+-----------+\n",
      "|code_module|\n",
      "+-----------+\n",
      "|        CCC|\n",
      "|        BBB|\n",
      "|        DDD|\n",
      "|        FFF|\n",
      "|        EEE|\n",
      "|        AAA|\n",
      "|        GGG|\n",
      "+-----------+\n",
      "\n"
     ]
    }
   ],
   "source": [
    "data_courses.createOrReplaceTempView(\"courses\")\n",
    "spark.sql(\"select code_module from courses group by code_module \").show()"
   ]
  },
  {
   "cell_type": "code",
   "execution_count": 31,
   "id": "fa269ce0",
   "metadata": {},
   "outputs": [
    {
     "name": "stdout",
     "output_type": "stream",
     "text": [
      "+-----------+-----------------+----------+------+--------------------+--------------------+--------+--------+--------------------+---------------+----------+------------+\n",
      "|code_module|code_presentation|id_student|gender|              region|   highest_education|imd_band|age_band|num_of_prev_attempts|studied_credits|disability|final_result|\n",
      "+-----------+-----------------+----------+------+--------------------+--------------------+--------+--------+--------------------+---------------+----------+------------+\n",
      "|        AAA|            2013J|     11391|     M| East Anglian Region|    HE Qualification| 90-100%|    55<=|                   0|            240|         N|        Pass|\n",
      "|        AAA|            2013J|     28400|     F|            Scotland|    HE Qualification|  20-30%|   35-55|                   0|             60|         N|        Pass|\n",
      "|        AAA|            2013J|     30268|     F|North Western Region|A Level or Equiva...|  30-40%|   35-55|                   0|             60|         Y|   Withdrawn|\n",
      "|        AAA|            2013J|     31604|     F|   South East Region|A Level or Equiva...|  50-60%|   35-55|                   0|             60|         N|        Pass|\n",
      "|        AAA|            2013J|     32885|     F|West Midlands Region|  Lower Than A Level|  50-60%|    0-35|                   0|             60|         N|        Pass|\n",
      "+-----------+-----------------+----------+------+--------------------+--------------------+--------+--------+--------------------+---------------+----------+------------+\n",
      "only showing top 5 rows\n",
      "\n"
     ]
    }
   ],
   "source": [
    "data_studentInfo.show(5)"
   ]
  },
  {
   "cell_type": "markdown",
   "id": "788a3b4d",
   "metadata": {},
   "source": [
    "### 6. Get all students who have withdrawn from their course\n"
   ]
  },
  {
   "cell_type": "code",
   "execution_count": 32,
   "id": "e574d9f1",
   "metadata": {},
   "outputs": [
    {
     "name": "stdout",
     "output_type": "stream",
     "text": [
      "+-----------+-----------------+----------+\n",
      "|code_module|code_presentation|id_student|\n",
      "+-----------+-----------------+----------+\n",
      "|        AAA|            2013J|     30268|\n",
      "|        AAA|            2013J|     65002|\n",
      "|        AAA|            2013J|     94961|\n",
      "|        AAA|            2013J|    106247|\n",
      "|        AAA|            2013J|    129955|\n",
      "+-----------+-----------------+----------+\n",
      "only showing top 5 rows\n",
      "\n"
     ]
    }
   ],
   "source": [
    "spark.sql(\"select code_module, code_presentation, id_student from studentInfo where final_result = 'Withdrawn'\").show(5)"
   ]
  },
  {
   "cell_type": "code",
   "execution_count": 33,
   "id": "49d9d677",
   "metadata": {},
   "outputs": [
    {
     "name": "stdout",
     "output_type": "stream",
     "text": [
      "+-----------+-----------------+----------+\n",
      "|code_module|code_presentation|id_student|\n",
      "+-----------+-----------------+----------+\n",
      "|        AAA|            2013J|     30268|\n",
      "|        AAA|            2013J|     65002|\n",
      "|        AAA|            2013J|     94961|\n",
      "|        AAA|            2013J|    106247|\n",
      "|        AAA|            2013J|    129955|\n",
      "+-----------+-----------------+----------+\n",
      "only showing top 5 rows\n",
      "\n"
     ]
    }
   ],
   "source": [
    "data_studentInfo.select(\"code_module\", \"code_presentation\", \"id_student\").filter(data_studentInfo.final_result == 'Withdrawn').show(5)"
   ]
  },
  {
   "cell_type": "markdown",
   "id": "297fc3f7",
   "metadata": {},
   "source": [
    "### 8. List students who registered late (after course start date).\n"
   ]
  },
  {
   "cell_type": "code",
   "execution_count": 34,
   "id": "361553d8",
   "metadata": {},
   "outputs": [
    {
     "name": "stdout",
     "output_type": "stream",
     "text": [
      "+-----------+-----------------+----------+\n",
      "|code_module|code_presentation|id_student|\n",
      "+-----------+-----------------+----------+\n",
      "|        AAA|            2013J|    106247|\n",
      "|        AAA|            2013J|    236284|\n",
      "|        AAA|            2013J|    341872|\n",
      "|        AAA|            2013J|   1472925|\n",
      "|        AAA|            2014J|    199897|\n",
      "+-----------+-----------------+----------+\n",
      "only showing top 5 rows\n",
      "\n"
     ]
    }
   ],
   "source": [
    "data_studentRegistration.select(\"code_module\", \"code_presentation\", \"id_student\").filter(data_studentRegistration.date_registration > 0).show(5)"
   ]
  },
  {
   "cell_type": "code",
   "execution_count": 35,
   "id": "f86b8ccd",
   "metadata": {},
   "outputs": [
    {
     "name": "stdout",
     "output_type": "stream",
     "text": [
      "+-----------+-----------------+----------+\n",
      "|code_module|code_presentation|id_student|\n",
      "+-----------+-----------------+----------+\n",
      "|        AAA|            2013J|    106247|\n",
      "|        AAA|            2013J|    236284|\n",
      "|        AAA|            2013J|    341872|\n",
      "|        AAA|            2013J|   1472925|\n",
      "|        AAA|            2014J|    199897|\n",
      "+-----------+-----------------+----------+\n",
      "only showing top 5 rows\n",
      "\n"
     ]
    }
   ],
   "source": [
    "data_studentRegistration.createOrReplaceTempView(\"studentRegistration\")\n",
    "spark.sql(\"select code_module, code_presentation, id_student from studentRegistration where date_registration > 0 \").show(5)"
   ]
  },
  {
   "cell_type": "markdown",
   "id": "db8121e5",
   "metadata": {},
   "source": [
    "### 10. Get the number of assessment submissions per student.\n"
   ]
  },
  {
   "cell_type": "code",
   "execution_count": 36,
   "id": "0627d81b",
   "metadata": {},
   "outputs": [
    {
     "name": "stdout",
     "output_type": "stream",
     "text": [
      "+----------+-----+\n",
      "|id_student|count|\n",
      "+----------+-----+\n",
      "|    180753|    5|\n",
      "|    324084|    5|\n",
      "|   2057803|    5|\n",
      "|    486656|   11|\n",
      "|    502604|   11|\n",
      "+----------+-----+\n",
      "only showing top 5 rows\n",
      "\n"
     ]
    }
   ],
   "source": [
    "data_studentAssessment.select(\"id_student\").groupby(\"id_student\").count().show(5)"
   ]
  },
  {
   "cell_type": "code",
   "execution_count": 37,
   "id": "4058d8c1",
   "metadata": {},
   "outputs": [
    {
     "name": "stdout",
     "output_type": "stream",
     "text": [
      "+----------+-----+\n",
      "|id_student|count|\n",
      "+----------+-----+\n",
      "|    180753|    5|\n",
      "|    324084|    5|\n",
      "|   2057803|    5|\n",
      "|    486656|   11|\n",
      "|    502604|   11|\n",
      "+----------+-----+\n",
      "only showing top 5 rows\n",
      "\n"
     ]
    }
   ],
   "source": [
    "data_studentAssessment.createOrReplaceTempView(\"studentAssessment\")\n",
    "spark.sql(\"select id_student, count(*) as count from studentAssessment group by id_student\").show(5)"
   ]
  },
  {
   "cell_type": "markdown",
   "id": "a52e8a10",
   "metadata": {},
   "source": [
    "### 12. Find all assessments of module ‘AAA’.\n"
   ]
  },
  {
   "cell_type": "code",
   "execution_count": 38,
   "id": "75e227ec",
   "metadata": {},
   "outputs": [
    {
     "name": "stdout",
     "output_type": "stream",
     "text": [
      "+-----------+-----------------+-------------+---------------+----+------+\n",
      "|code_module|code_presentation|id_assessment|assessment_type|date|weight|\n",
      "+-----------+-----------------+-------------+---------------+----+------+\n",
      "|        AAA|            2013J|         1752|            TMA|  19|  10.0|\n",
      "|        AAA|            2013J|         1753|            TMA|  54|  20.0|\n",
      "|        AAA|            2013J|         1754|            TMA| 117|  20.0|\n",
      "|        AAA|            2013J|         1755|            TMA| 166|  20.0|\n",
      "|        AAA|            2013J|         1756|            TMA| 215|  30.0|\n",
      "|        AAA|            2013J|         1757|           Exam|NULL| 100.0|\n",
      "|        AAA|            2014J|         1758|            TMA|  19|  10.0|\n",
      "|        AAA|            2014J|         1759|            TMA|  54|  20.0|\n",
      "|        AAA|            2014J|         1760|            TMA| 117|  20.0|\n",
      "|        AAA|            2014J|         1761|            TMA| 166|  20.0|\n",
      "|        AAA|            2014J|         1762|            TMA| 215|  30.0|\n",
      "|        AAA|            2014J|         1763|           Exam|NULL| 100.0|\n",
      "|        BBB|            2013B|        14991|            CMA|  54|   1.0|\n",
      "|        BBB|            2013B|        14992|            CMA|  89|   1.0|\n",
      "|        BBB|            2013B|        14993|            CMA| 124|   1.0|\n",
      "|        BBB|            2013B|        14994|            CMA| 159|   1.0|\n",
      "|        BBB|            2013B|        14995|            CMA| 187|   1.0|\n",
      "|        BBB|            2013B|        14984|            TMA|  19|   5.0|\n",
      "|        BBB|            2013B|        14985|            TMA|  47|  18.0|\n",
      "|        BBB|            2013B|        14986|            TMA|  89|  18.0|\n",
      "+-----------+-----------------+-------------+---------------+----+------+\n",
      "only showing top 20 rows\n",
      "\n"
     ]
    }
   ],
   "source": [
    "data_assessments.show()"
   ]
  },
  {
   "cell_type": "code",
   "execution_count": 39,
   "id": "8231655e",
   "metadata": {},
   "outputs": [
    {
     "name": "stdout",
     "output_type": "stream",
     "text": [
      "+-----------+-----------------+-------------+---------------+----+------+\n",
      "|code_module|code_presentation|id_assessment|assessment_type|date|weight|\n",
      "+-----------+-----------------+-------------+---------------+----+------+\n",
      "|        AAA|            2013J|         1752|            TMA|  19|  10.0|\n",
      "|        AAA|            2013J|         1753|            TMA|  54|  20.0|\n",
      "|        AAA|            2013J|         1754|            TMA| 117|  20.0|\n",
      "|        AAA|            2013J|         1755|            TMA| 166|  20.0|\n",
      "|        AAA|            2013J|         1756|            TMA| 215|  30.0|\n",
      "|        AAA|            2013J|         1757|           Exam|NULL| 100.0|\n",
      "|        AAA|            2014J|         1758|            TMA|  19|  10.0|\n",
      "|        AAA|            2014J|         1759|            TMA|  54|  20.0|\n",
      "|        AAA|            2014J|         1760|            TMA| 117|  20.0|\n",
      "|        AAA|            2014J|         1761|            TMA| 166|  20.0|\n",
      "|        AAA|            2014J|         1762|            TMA| 215|  30.0|\n",
      "|        AAA|            2014J|         1763|           Exam|NULL| 100.0|\n",
      "+-----------+-----------------+-------------+---------------+----+------+\n",
      "\n"
     ]
    }
   ],
   "source": [
    "data_assessments.createOrReplaceTempView(\"assessments\")\n",
    "spark.sql(\"select * from assessments where code_module = 'AAA'\").show()"
   ]
  },
  {
   "cell_type": "markdown",
   "id": "ad0e893a",
   "metadata": {},
   "source": [
    "## **Intermediate** SQL Questions\n",
    "\n"
   ]
  },
  {
   "cell_type": "markdown",
   "id": "8bae8757",
   "metadata": {},
   "source": [
    "### 1. Get the average score per module.\n"
   ]
  },
  {
   "cell_type": "code",
   "execution_count": 40,
   "id": "6b77b55c",
   "metadata": {},
   "outputs": [
    {
     "name": "stdout",
     "output_type": "stream",
     "text": [
      "+-----------+-----------------+\n",
      "|code_module|              avg|\n",
      "+-----------+-----------------+\n",
      "|        CCC| 73.2613978551429|\n",
      "|        BBB| 76.7063682263431|\n",
      "|        DDD|70.09079993509654|\n",
      "|        FFF|77.70759006007047|\n",
      "|        EEE|81.18006593963987|\n",
      "|        AAA|69.03051493960585|\n",
      "|        GGG|79.70049293460401|\n",
      "+-----------+-----------------+\n",
      "\n"
     ]
    }
   ],
   "source": [
    "data_studentAssessment.createOrReplaceTempView(\"studentAssessment\")\n",
    "data_assessments.createOrReplaceTempView(\"assessments\")\n",
    "\n",
    "\n",
    "spark.sql(\"select a.code_module, AVG(sa.score) as avg from assessments a join studentAssessment sa on a.id_assessment = sa.id_assessment group by a.code_module\").show()"
   ]
  },
  {
   "cell_type": "code",
   "execution_count": 41,
   "id": "1aa242bc",
   "metadata": {},
   "outputs": [
    {
     "name": "stdout",
     "output_type": "stream",
     "text": [
      "+-----------+-----------------+\n",
      "|code_module|       avg(score)|\n",
      "+-----------+-----------------+\n",
      "|        CCC| 73.2613978551429|\n",
      "|        BBB| 76.7063682263431|\n",
      "|        DDD|70.09079993509654|\n",
      "|        FFF|77.70759006007047|\n",
      "|        EEE|81.18006593963987|\n",
      "|        AAA|69.03051493960585|\n",
      "|        GGG|79.70049293460401|\n",
      "+-----------+-----------------+\n",
      "\n"
     ]
    }
   ],
   "source": [
    "data_studentAssessment.join(data_assessments, data_studentAssessment.id_assessment == data_assessments.id_assessment)\\\n",
    "    .groupby(\"code_module\").agg({\"score\": \"avg\"}).show()"
   ]
  },
  {
   "cell_type": "markdown",
   "id": "23cd060f",
   "metadata": {},
   "source": [
    "### 2.Find the students who scored the highest in any assessment.\n"
   ]
  },
  {
   "cell_type": "code",
   "execution_count": 42,
   "id": "64188d30",
   "metadata": {},
   "outputs": [
    {
     "name": "stdout",
     "output_type": "stream",
     "text": [
      "+-------------+---------+\n",
      "|id_assessment|max_score|\n",
      "+-------------+---------+\n",
      "|        15003|      100|\n",
      "|        15004|      100|\n",
      "|        34878|      100|\n",
      "|        14997|       96|\n",
      "|        34870|      100|\n",
      "+-------------+---------+\n",
      "only showing top 5 rows\n",
      "\n",
      "+-------------+---------+-------------+----------+--------------+---------+-----+\n",
      "|id_assessment|max_score|id_assessment|id_student|date_submitted|is_banked|score|\n",
      "+-------------+---------+-------------+----------+--------------+---------+-----+\n",
      "|         1752|       94|         1752|   2555340|            18|        0|   94|\n",
      "|         1753|       95|         1753|    296332|            52|        0|   95|\n",
      "|         1754|       95|         1754|   2458355|           117|        0|   95|\n",
      "|         1755|       94|         1755|    376439|           166|        0|   94|\n",
      "|         1755|       94|         1755|   2694424|           162|        0|   94|\n",
      "|         1756|       98|         1756|   2536991|           215|        0|   98|\n",
      "|         1758|       90|         1758|   2010232|            19|        0|   90|\n",
      "|         1758|       90|         1758|    248581|            19|        0|   90|\n",
      "|         1758|       90|         1758|    439305|            23|        0|   90|\n",
      "|         1759|       95|         1759|    342007|            58|        0|   95|\n",
      "|         1760|       94|         1760|    485962|           117|        0|   94|\n",
      "|         1761|       92|         1761|    527100|           165|        0|   92|\n",
      "|         1762|       95|         1762|    527100|           215|        0|   95|\n",
      "|        14984|       99|        14984|    561161|            18|        0|   99|\n",
      "|        14985|      100|        14985|   2617596|            47|        0|  100|\n",
      "|        14986|      100|        14986|   1436591|            75|        0|  100|\n",
      "|        14986|      100|        14986|   2236738|            89|        0|  100|\n",
      "|        14987|      100|        14987|   1436591|           120|        0|  100|\n",
      "|        14987|      100|        14987|    484933|           122|        0|  100|\n",
      "|        14988|      100|        14988|   1436591|           155|        0|  100|\n",
      "+-------------+---------+-------------+----------+--------------+---------+-----+\n",
      "only showing top 20 rows\n",
      "\n"
     ]
    }
   ],
   "source": [
    "max_scores = data_studentAssessment.groupby(\"id_assessment\") \\\n",
    "    .agg(F.max(\"score\").alias(\"max_score\"))\n",
    "\n",
    "max_scores.show(5)\n",
    "\n",
    "max_scores.join(data_studentAssessment, \n",
    "    (data_studentAssessment.id_assessment == max_scores.id_assessment)\n",
    "    & (data_studentAssessment.score == max_scores.max_score)\n",
    "    ).show() "
   ]
  },
  {
   "cell_type": "markdown",
   "id": "3a1cd79a",
   "metadata": {},
   "source": [
    "### 3. Calculate the overall average score of students who passed.\n"
   ]
  },
  {
   "cell_type": "code",
   "execution_count": 58,
   "id": "005009e0",
   "metadata": {},
   "outputs": [
    {
     "name": "stdout",
     "output_type": "stream",
     "text": [
      "+-----------+-----------------+----------+------------+\n",
      "|code_module|code_presentation|id_student|final_result|\n",
      "+-----------+-----------------+----------+------------+\n",
      "|        AAA|            2013J|     11391|        Pass|\n",
      "|        AAA|            2013J|     28400|        Pass|\n",
      "|        AAA|            2013J|     31604|        Pass|\n",
      "|        AAA|            2013J|     32885|        Pass|\n",
      "|        AAA|            2013J|     38053|        Pass|\n",
      "+-----------+-----------------+----------+------------+\n",
      "only showing top 5 rows\n",
      "\n"
     ]
    }
   ],
   "source": [
    "pass_student = data_studentInfo.select(\"code_module\",\"code_presentation\",\"id_student\",\"final_result\").filter(data_studentInfo.final_result.isin([\"Pass\", \"Distinction\"]))\n",
    "pass_student.show(5)"
   ]
  },
  {
   "cell_type": "code",
   "execution_count": 51,
   "id": "bf55deb9",
   "metadata": {},
   "outputs": [
    {
     "name": "stdout",
     "output_type": "stream",
     "text": [
      "+-----------+-----------------+-------------+----------+-----+\n",
      "|code_module|code_presentation|id_assessment|id_student|score|\n",
      "+-----------+-----------------+-------------+----------+-----+\n",
      "|        AAA|            2013J|         1752|     11391|   78|\n",
      "|        AAA|            2013J|         1752|     28400|   70|\n",
      "|        AAA|            2013J|         1752|     31604|   72|\n",
      "|        AAA|            2013J|         1752|     32885|   69|\n",
      "|        AAA|            2013J|         1752|     38053|   79|\n",
      "+-----------+-----------------+-------------+----------+-----+\n",
      "only showing top 5 rows\n",
      "\n"
     ]
    }
   ],
   "source": [
    "course_ass = data_studentAssessment.join(data_assessments, data_studentAssessment.id_assessment == data_assessments.id_assessment)\n",
    "course_ass.select(\"code_module\",\"code_presentation\",data_assessments.id_assessment,\"id_student\",\"score\").show(5)"
   ]
  },
  {
   "cell_type": "code",
   "execution_count": 74,
   "id": "fc42cf68",
   "metadata": {},
   "outputs": [
    {
     "name": "stdout",
     "output_type": "stream",
     "text": [
      "+-----------+-----------------+----------+------------+-------------+--------------+---------+-----+-------------+---------------+----+------+\n",
      "|code_module|code_presentation|id_student|final_result|id_assessment|date_submitted|is_banked|score|id_assessment|assessment_type|date|weight|\n",
      "+-----------+-----------------+----------+------------+-------------+--------------+---------+-----+-------------+---------------+----+------+\n",
      "|        AAA|            2013J|     11391|        Pass|         1752|            18|        0|   78|         1752|            TMA|  19|  10.0|\n",
      "|        AAA|            2013J|     28400|        Pass|         1752|            22|        0|   70|         1752|            TMA|  19|  10.0|\n",
      "|        AAA|            2013J|     31604|        Pass|         1752|            17|        0|   72|         1752|            TMA|  19|  10.0|\n",
      "|        AAA|            2013J|     32885|        Pass|         1752|            26|        0|   69|         1752|            TMA|  19|  10.0|\n",
      "|        AAA|            2013J|     38053|        Pass|         1752|            19|        0|   79|         1752|            TMA|  19|  10.0|\n",
      "+-----------+-----------------+----------+------------+-------------+--------------+---------+-----+-------------+---------------+----+------+\n",
      "only showing top 5 rows\n",
      "\n"
     ]
    }
   ],
   "source": [
    "res = pass_student.join(course_ass, on=[\"code_module\", \"code_presentation\", \"id_student\"])\n",
    "res.show(5)"
   ]
  },
  {
   "cell_type": "code",
   "execution_count": 75,
   "id": "7f10b650",
   "metadata": {},
   "outputs": [
    {
     "name": "stdout",
     "output_type": "stream",
     "text": [
      "+----------------+\n",
      "|      avg(score)|\n",
      "+----------------+\n",
      "|79.1411761149361|\n",
      "+----------------+\n",
      "\n"
     ]
    }
   ],
   "source": [
    "res.select(F.avg(\"score\")).show()"
   ]
  },
  {
   "cell_type": "code",
   "execution_count": 76,
   "id": "275b9c71",
   "metadata": {},
   "outputs": [
    {
     "name": "stdout",
     "output_type": "stream",
     "text": [
      "+-----------+-----------------+-----------------+\n",
      "|code_module|code_presentation|       avg(score)|\n",
      "+-----------+-----------------+-----------------+\n",
      "|        FFF|            2013J| 79.5139337952271|\n",
      "|        BBB|            2013J|80.76989093509745|\n",
      "|        BBB|            2014J|67.92098377812664|\n",
      "|        EEE|            2014J|84.20379323168464|\n",
      "|        BBB|            2014B| 81.1468791500664|\n",
      "+-----------+-----------------+-----------------+\n",
      "only showing top 5 rows\n",
      "\n"
     ]
    }
   ],
   "source": [
    "res.groupby(\"code_module\", \"code_presentation\").agg({\"score\": \"avg\"}).show(5)"
   ]
  },
  {
   "cell_type": "markdown",
   "id": "bd28acb1",
   "metadata": {},
   "source": [
    "### 4. Find courses where more than 50% of students passed.\n"
   ]
  },
  {
   "cell_type": "code",
   "execution_count": 94,
   "id": "49f8fea2",
   "metadata": {},
   "outputs": [
    {
     "name": "stdout",
     "output_type": "stream",
     "text": [
      "+-----------+-----------------+-------------------+\n",
      "|code_module|code_presentation|num_of_pass_student|\n",
      "+-----------+-----------------+-------------------+\n",
      "|        FFF|            2013J|               1095|\n",
      "|        BBB|            2013J|               1072|\n",
      "|        BBB|            2014J|               1152|\n",
      "|        EEE|            2014J|                684|\n",
      "|        BBB|            2014B|                727|\n",
      "+-----------+-----------------+-------------------+\n",
      "only showing top 5 rows\n",
      "\n"
     ]
    }
   ],
   "source": [
    "pass_student = data_studentInfo.select(\"code_module\",\"code_presentation\",\"id_student\",\"final_result\")\\\n",
    "    .filter(data_studentInfo.final_result.isin([\"Pass\", \"Distinction\"]))\\\n",
    "    \n",
    "pass_courses = pass_student.groupby(\"code_module\",\"code_presentation\").agg(F.count(\"*\").alias(\"num_of_pass_student\"))\n",
    "pass_courses.show(5)\n",
    "\n"
   ]
  },
  {
   "cell_type": "code",
   "execution_count": 95,
   "id": "bbcf6007",
   "metadata": {},
   "outputs": [
    {
     "name": "stdout",
     "output_type": "stream",
     "text": [
      "+-----------+-----------------+----------------+\n",
      "|code_module|code_presentation|total_of_student|\n",
      "+-----------+-----------------+----------------+\n",
      "|        FFF|            2013J|            2283|\n",
      "|        BBB|            2013J|            2237|\n",
      "|        BBB|            2014J|            2292|\n",
      "|        EEE|            2014J|            1188|\n",
      "|        BBB|            2014B|            1613|\n",
      "+-----------+-----------------+----------------+\n",
      "only showing top 5 rows\n",
      "\n"
     ]
    }
   ],
   "source": [
    "all_cours = data_studentInfo.select(\"code_module\",\"code_presentation\",\"id_student\",\"final_result\")\\\n",
    "    .groupby(\"code_module\",\"code_presentation\")\\\n",
    "    .agg(F.count(\"*\").alias(\"total_of_student\"))\n",
    "all_cours.show(5)"
   ]
  },
  {
   "cell_type": "code",
   "execution_count": 119,
   "id": "691ee267",
   "metadata": {},
   "outputs": [
    {
     "name": "stdout",
     "output_type": "stream",
     "text": [
      "+-----------+-----------------+-------------------+----------------+------------------+\n",
      "|code_module|code_presentation|num_of_pass_student|total_of_student|          avg_pass|\n",
      "+-----------+-----------------+-------------------+----------------+------------------+\n",
      "|        BBB|            2014J|               1152|            2292| 50.26178010471204|\n",
      "|        EEE|            2014J|                684|            1188| 57.57575757575758|\n",
      "|        GGG|            2014B|                478|             833| 57.38295318127251|\n",
      "|        GGG|            2014J|                444|             749|59.279038718291055|\n",
      "|        AAA|            2014J|                253|             365| 69.31506849315069|\n",
      "|        GGG|            2013J|                592|             952| 62.18487394957983|\n",
      "|        AAA|            2013J|                278|             383| 72.58485639686684|\n",
      "|        EEE|            2013J|                609|            1052| 57.88973384030418|\n",
      "|        EEE|            2014B|                357|             694| 51.44092219020173|\n",
      "+-----------+-----------------+-------------------+----------------+------------------+\n",
      "\n"
     ]
    }
   ],
   "source": [
    "from pyspark.sql.functions import col\n",
    "\n",
    "# pass_courses.join(all_cours, on=[\"code_module\",\"code_presentation\"]).show()\n",
    "\n",
    "result = pass_courses.join(all_cours, on=[\"code_module\", \"code_presentation\"])\\\n",
    "    .withColumn(\"avg_pass\", col(\"num_of_pass_student\") / col(\"total_of_student\") * 100)\n",
    "\n",
    "result.filter(col(\"avg_pass\")>50).show()   "
   ]
  },
  {
   "cell_type": "markdown",
   "id": "6d5fe8ca",
   "metadata": {},
   "source": [
    "### 5. Find students with a final result of ‘Distinction’ but never submitted an assessment.\n"
   ]
  },
  {
   "cell_type": "code",
   "execution_count": 115,
   "id": "3c49b7a2",
   "metadata": {},
   "outputs": [
    {
     "name": "stdout",
     "output_type": "stream",
     "text": [
      "+-----------+-----------------+----------+------------+\n",
      "|code_module|code_presentation|id_student|final_result|\n",
      "+-----------+-----------------+----------+------------+\n",
      "|        AAA|            2013J|    134143| Distinction|\n",
      "|        AAA|            2013J|    187100| Distinction|\n",
      "|        AAA|            2013J|    227499| Distinction|\n",
      "|        AAA|            2013J|    279572| Distinction|\n",
      "|        AAA|            2013J|    291334| Distinction|\n",
      "+-----------+-----------------+----------+------------+\n",
      "only showing top 5 rows\n",
      "\n"
     ]
    }
   ],
   "source": [
    "distinct_stud = data_studentInfo.select(\"code_module\",\"code_presentation\",\"id_student\",\"final_result\")\\\n",
    "    .filter(col(\"final_result\") == \"Distinction\")\n",
    "    \n",
    "distinct_stud.show(5)"
   ]
  },
  {
   "cell_type": "code",
   "execution_count": 117,
   "id": "f9b82bdc",
   "metadata": {},
   "outputs": [
    {
     "name": "stdout",
     "output_type": "stream",
     "text": [
      "+----------+-----------+-----------------+------------+-------------+--------------+---------+-----+\n",
      "|id_student|code_module|code_presentation|final_result|id_assessment|date_submitted|is_banked|score|\n",
      "+----------+-----------+-----------------+------------+-------------+--------------+---------+-----+\n",
      "+----------+-----------+-----------------+------------+-------------+--------------+---------+-----+\n",
      "\n"
     ]
    }
   ],
   "source": [
    "distinct_stud.join(data_studentAssessment, on = \"id_student\", how=\"left\").filter(col(\"date_submitted\").isNull()).show()"
   ]
  },
  {
   "cell_type": "markdown",
   "id": "7e75650e",
   "metadata": {},
   "source": [
    "### 6. Find assessments where more than 80% of students scored below 50.\n"
   ]
  },
  {
   "cell_type": "code",
   "execution_count": 129,
   "id": "3acadec9",
   "metadata": {},
   "outputs": [
    {
     "name": "stdout",
     "output_type": "stream",
     "text": [
      "+-------------+----------+--------------+---------+-----+-------+\n",
      "|id_assessment|id_student|date_submitted|is_banked|score|Pass 50|\n",
      "+-------------+----------+--------------+---------+-----+-------+\n",
      "|         1752|    141377|            54|        0|   45|  false|\n",
      "|         1752|    295741|            18|        0|   38|  false|\n",
      "|         1752|    307866|            19|        0|   47|  false|\n",
      "|         1752|    324282|            18|        0|   38|  false|\n",
      "|         1752|    334333|            18|        0|   36|  false|\n",
      "+-------------+----------+--------------+---------+-----+-------+\n",
      "only showing top 5 rows\n",
      "\n"
     ]
    }
   ],
   "source": [
    "data_studentAssessmentUpdate = data_studentAssessment.withColumn(\"Pass 50\", col(\"score\") >= 50)\n",
    "bad_stud = data_studentAssessmentUpdate\\\n",
    "            .filter(col(\"Pass 50\") == \"false\")\n",
    "bad_stud.show(5)"
   ]
  },
  {
   "cell_type": "code",
   "execution_count": 136,
   "id": "4b22c26b",
   "metadata": {},
   "outputs": [
    {
     "name": "stdout",
     "output_type": "stream",
     "text": [
      "+-------------+----------+\n",
      "|id_assessment|not_passed|\n",
      "+-------------+----------+\n",
      "|        15003|        14|\n",
      "|        15004|        45|\n",
      "|        34878|         5|\n",
      "|        14997|       104|\n",
      "|        34870|        37|\n",
      "+-------------+----------+\n",
      "only showing top 5 rows\n",
      "\n"
     ]
    }
   ],
   "source": [
    "b = bad_stud.groupby(\"id_assessment\").agg(F.count(\"*\").alias(\"not_passed\"))\n",
    "b.show(5)"
   ]
  },
  {
   "cell_type": "code",
   "execution_count": 137,
   "metadata": {},
   "outputs": [
    {
     "name": "stdout",
     "output_type": "stream",
     "text": [
      "+-------------+----+\n",
      "|id_assessment| all|\n",
      "+-------------+----+\n",
      "|        15003|1490|\n",
      "|        15004|1350|\n",
      "|        34878|1470|\n",
      "|        14997|1524|\n",
      "|        34870| 912|\n",
      "+-------------+----+\n",
      "only showing top 5 rows\n",
      "\n"
     ]
    }
   ],
   "source": [
    "all = data_studentAssessmentUpdate.groupby(\"id_assessment\").agg(F.count(\"*\").alias(\"all\"))\n",
    "all.show(5)"
   ]
  },
  {
   "cell_type": "code",
   "execution_count": 141,
   "id": "1d391c1b",
   "metadata": {},
   "outputs": [
    {
     "name": "stdout",
     "output_type": "stream",
     "text": [
      "+-------------+----------+---+---+\n",
      "|id_assessment|not_passed|all|avg|\n",
      "+-------------+----------+---+---+\n",
      "+-------------+----------+---+---+\n",
      "\n"
     ]
    }
   ],
   "source": [
    "j = b.join(all, on=\"id_assessment\")\n",
    "j = j.withColumn(\"avg\", col(\"not_passed\") / col(\"all\") * 100)\\\n",
    " .filter(col(\"avg\") > 80)\n",
    "\n",
    "j.show()"
   ]
  },
  {
   "cell_type": "markdown",
   "id": "df8d140d",
   "metadata": {},
   "source": [
    "### 7. Find students who submitted the same assessment multiple times.\n"
   ]
  },
  {
   "cell_type": "code",
   "execution_count": 147,
   "id": "4462c80f",
   "metadata": {},
   "outputs": [
    {
     "name": "stdout",
     "output_type": "stream",
     "text": [
      "+-------------+----------+--------------+---------+-----+-------------+----------+--------------+---------+-----+\n",
      "|id_assessment|id_student|date_submitted|is_banked|score|id_assessment|id_student|date_submitted|is_banked|score|\n",
      "+-------------+----------+--------------+---------+-----+-------------+----------+--------------+---------+-----+\n",
      "+-------------+----------+--------------+---------+-----+-------------+----------+--------------+---------+-----+\n",
      "\n"
     ]
    }
   ],
   "source": [
    "df1 = data_studentAssessment.alias(\"df1\")\n",
    "df2 = data_studentAssessment.alias(\"df2\")\n",
    "\n",
    "s1 = df1.join(df2, (df1.id_assessment == df2.id_assessment) \n",
    "    & (df1.id_student == df2.id_student)\n",
    "    & (df1.date_submitted != df2.date_submitted) \n",
    ")\n",
    "s1.show()"
   ]
  },
  {
   "cell_type": "code",
   "execution_count": 150,
   "id": "bb1775a5",
   "metadata": {},
   "outputs": [
    {
     "name": "stdout",
     "output_type": "stream",
     "text": [
      "+-------------+----------+-----+\n",
      "|id_assessment|id_student|count|\n",
      "+-------------+----------+-----+\n",
      "+-------------+----------+-----+\n",
      "\n"
     ]
    },
    {
     "name": "stderr",
     "output_type": "stream",
     "text": [
      "                                                                                \r"
     ]
    }
   ],
   "source": [
    "s2 = data_studentAssessment.groupBy(\"id_assessment\", \"id_student\").agg(F.count(\"date_submitted\").alias(\"count\"))\\\n",
    "    .filter(col(\"count\") > 1)\n",
    "s2.show()"
   ]
  },
  {
   "cell_type": "code",
   "execution_count": null,
   "id": "ff2e5f82",
   "metadata": {},
   "outputs": [],
   "source": []
  },
  {
   "cell_type": "code",
   "execution_count": 148,
   "id": "df33aa5e",
   "metadata": {},
   "outputs": [
    {
     "name": "stdout",
     "output_type": "stream",
     "text": [
      "== Physical Plan ==\n",
      "AdaptiveSparkPlan isFinalPlan=false\n",
      "+- BroadcastHashJoin [id_assessment#919, id_student#920], [id_assessment#4758, id_student#4759], Inner, BuildRight, NOT (date_submitted#921 = date_submitted#4760), false\n",
      "   :- Filter ((isnotnull(id_assessment#919) AND isnotnull(id_student#920)) AND isnotnull(date_submitted#921))\n",
      "   :  +- FileScan csv [id_assessment#919,id_student#920,date_submitted#921,is_banked#922,score#923] Batched: false, DataFilters: [isnotnull(id_assessment#919), isnotnull(id_student#920), isnotnull(date_submitted#921)], Format: CSV, Location: InMemoryFileIndex(1 paths)[file:/home/studen/mickael/python_data_engineer/hadoop/spark/OULAD data..., PartitionFilters: [], PushedFilters: [IsNotNull(id_assessment), IsNotNull(id_student), IsNotNull(date_submitted)], ReadSchema: struct<id_assessment:int,id_student:int,date_submitted:int,is_banked:int,score:int>\n",
      "   +- BroadcastExchange HashedRelationBroadcastMode(List((shiftleft(cast(input[0, int, false] as bigint), 32) | (cast(input[1, int, false] as bigint) & 4294967295))),false), [plan_id=8223]\n",
      "      +- Filter ((isnotnull(id_assessment#4758) AND isnotnull(id_student#4759)) AND isnotnull(date_submitted#4760))\n",
      "         +- FileScan csv [id_assessment#4758,id_student#4759,date_submitted#4760,is_banked#4761,score#4762] Batched: false, DataFilters: [isnotnull(id_assessment#4758), isnotnull(id_student#4759), isnotnull(date_submitted#4760)], Format: CSV, Location: InMemoryFileIndex(1 paths)[file:/home/studen/mickael/python_data_engineer/hadoop/spark/OULAD data..., PartitionFilters: [], PushedFilters: [IsNotNull(id_assessment), IsNotNull(id_student), IsNotNull(date_submitted)], ReadSchema: struct<id_assessment:int,id_student:int,date_submitted:int,is_banked:int,score:int>\n",
      "\n",
      "\n"
     ]
    }
   ],
   "source": [
    "s1.explain()"
   ]
  },
  {
   "cell_type": "code",
   "execution_count": 151,
   "id": "5a6d3447",
   "metadata": {},
   "outputs": [
    {
     "name": "stdout",
     "output_type": "stream",
     "text": [
      "== Physical Plan ==\n",
      "AdaptiveSparkPlan isFinalPlan=false\n",
      "+- Filter (count#4841L > 1)\n",
      "   +- HashAggregate(keys=[id_assessment#919, id_student#920], functions=[count(date_submitted#921)])\n",
      "      +- Exchange hashpartitioning(id_assessment#919, id_student#920, 200), ENSURE_REQUIREMENTS, [plan_id=8307]\n",
      "         +- HashAggregate(keys=[id_assessment#919, id_student#920], functions=[partial_count(date_submitted#921)])\n",
      "            +- FileScan csv [id_assessment#919,id_student#920,date_submitted#921] Batched: false, DataFilters: [], Format: CSV, Location: InMemoryFileIndex(1 paths)[file:/home/studen/mickael/python_data_engineer/hadoop/spark/OULAD data..., PartitionFilters: [], PushedFilters: [], ReadSchema: struct<id_assessment:int,id_student:int,date_submitted:int>\n",
      "\n",
      "\n"
     ]
    }
   ],
   "source": [
    "s2.explain()"
   ]
  },
  {
   "cell_type": "markdown",
   "id": "6caa27ea",
   "metadata": {},
   "source": [
    "### 8. Find courses with the highest dropout rate.\n"
   ]
  },
  {
   "cell_type": "code",
   "execution_count": 153,
   "id": "4e50dc71",
   "metadata": {},
   "outputs": [
    {
     "name": "stdout",
     "output_type": "stream",
     "text": [
      "+-----------+-----------------+--------------+--------+-----------------+\n",
      "|code_module|code_presentation|total_students|dropouts|     dropout_rate|\n",
      "+-----------+-----------------+--------------+--------+-----------------+\n",
      "|        CCC|            2014B|          1936|    1273|65.75413223140497|\n",
      "|        DDD|            2014B|          1228|     749|60.99348534201955|\n",
      "|        DDD|            2013B|          1303|     793|60.85955487336915|\n",
      "|        CCC|            2014J|          2498|    1483|59.36749399519615|\n",
      "|        DDD|            2013J|          1938|    1109|57.22394220846233|\n",
      "+-----------+-----------------+--------------+--------+-----------------+\n",
      "only showing top 5 rows\n",
      "\n"
     ]
    }
   ],
   "source": [
    "total_students = data_studentInfo.groupby(\"code_module\", \"code_presentation\")\\\n",
    "    .agg(F.count(\"id_student\").alias(\"total_students\"))\n",
    "\n",
    "dropouts = data_studentInfo.filter(data_studentInfo.final_result.isin([\"Fail\", \"Withdrawn\"]))\\\n",
    "    .groupby(\"code_module\", \"code_presentation\")\\\n",
    "    .agg(F.count(\"id_student\").alias(\"dropouts\"))\n",
    "\n",
    "dropout_rate = total_students.join(dropouts, on=[\"code_module\", \"code_presentation\"], how=\"left\")\n",
    "\n",
    "dropout_rate = dropout_rate.withColumn(\"dropout_rate\", \n",
    "                                       (F.col(\"dropouts\") / F.col(\"total_students\")) * 100)\n",
    "\n",
    "dropout_rate.orderBy(F.col(\"dropout_rate\").desc()).show(5)"
   ]
  },
  {
   "cell_type": "markdown",
   "id": "113c8049",
   "metadata": {},
   "source": [
    "### 9. Calculate the number of interactions (clicks) per student.\n"
   ]
  },
  {
   "cell_type": "markdown",
   "id": "bd366b54",
   "metadata": {},
   "source": [
    "### 10. Find the median score per module.\n"
   ]
  },
  {
   "cell_type": "markdown",
   "id": "d7eee2a9",
   "metadata": {},
   "source": [
    "### 11. Calculate submission delay patterns."
   ]
  },
  {
   "cell_type": "markdown",
   "id": "0f2ad3a4",
   "metadata": {},
   "source": [
    "### 12. Compare performance across age bands.\n"
   ]
  }
 ],
 "metadata": {
  "kernelspec": {
   "display_name": "Python 3",
   "language": "python",
   "name": "python3"
  },
  "language_info": {
   "codemirror_mode": {
    "name": "ipython",
    "version": 3
   },
   "file_extension": ".py",
   "mimetype": "text/x-python",
   "name": "python",
   "nbconvert_exporter": "python",
   "pygments_lexer": "ipython3",
   "version": "3.10.12"
  }
 },
 "nbformat": 4,
 "nbformat_minor": 5
}
