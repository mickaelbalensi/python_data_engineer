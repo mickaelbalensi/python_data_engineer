{
 "cells": [
  {
   "cell_type": "markdown",
   "metadata": {},
   "source": [
    "\n",
    "1. Install spark and run a worker on your machine\n",
    "\n",
    "2. Using Spark, inspect the Bank Marketing dataset\n",
    "\n",
    " a.  Print 10 random rows from the dataset"
   ]
  },
  {
   "cell_type": "code",
   "execution_count": 18,
   "metadata": {},
   "outputs": [
    {
     "name": "stdout",
     "output_type": "stream",
     "text": [
      "+---+------------+--------+---------+-------+-------+-------+----+--------+---+-----+--------+--------+-----+--------+--------+-------+\n",
      "|age|job         |marital |education|default|balance|housing|loan|contact |day|month|duration|campaign|pdays|previous|poutcome|deposit|\n",
      "+---+------------+--------+---------+-------+-------+-------+----+--------+---+-----+--------+--------+-----+--------+--------+-------+\n",
      "|52 |admin.      |married |secondary|no     |1113   |no     |yes |cellular|8  |jul  |83      |1       |-1   |0       |unknown |no     |\n",
      "|26 |management  |single  |tertiary |no     |1094   |yes    |no  |cellular|8  |sep  |137     |1       |-1   |0       |unknown |yes    |\n",
      "|27 |technician  |single  |secondary|yes    |0      |no     |yes |cellular|8  |jul  |732     |1       |-1   |0       |unknown |yes    |\n",
      "|49 |admin.      |married |secondary|no     |167    |no     |yes |cellular|9  |jul  |51      |1       |-1   |0       |unknown |no     |\n",
      "|33 |management  |single  |tertiary |no     |224    |no     |no  |cellular|23 |jun  |342     |2       |107  |2       |success |yes    |\n",
      "|59 |retired     |divorced|primary  |no     |81     |yes    |no  |unknown |5  |may  |107     |1       |-1   |0       |unknown |no     |\n",
      "|49 |blue-collar |married |secondary|no     |30     |yes    |no  |unknown |5  |may  |135     |4       |-1   |0       |unknown |no     |\n",
      "|34 |blue-collar |divorced|secondary|no     |1125   |yes    |yes |cellular|19 |nov  |141     |2       |-1   |0       |unknown |no     |\n",
      "|56 |entrepreneur|divorced|primary  |no     |29     |no     |no  |cellular|29 |jan  |52      |2       |227  |1       |failure |no     |\n",
      "|36 |services    |married |tertiary |no     |0      |yes    |no  |cellular|8  |may  |52      |1       |-1   |0       |unknown |no     |\n",
      "+---+------------+--------+---------+-------+-------+-------+----+--------+---+-----+--------+--------+-----+--------+--------+-------+\n",
      "only showing top 10 rows\n",
      "\n"
     ]
    }
   ],
   "source": [
    "from pyspark.sql import SparkSession\n",
    "from pyspark.sql.functions import rand\n",
    "\n",
    "# Initialize Spark session\n",
    "spark = SparkSession.builder.appName(\"BankMarketingAnalysis\").getOrCreate()\n",
    "\n",
    "# Load the dataset (update path as needed)\n",
    "df = spark.read.csv(\"bank-marketing.csv\", header=True, inferSchema=True)\n",
    "\n",
    "# Print 10 random rows\n",
    "df.orderBy(rand()).show(10, truncate=False)\n"
   ]
  },
  {
   "cell_type": "markdown",
   "metadata": {},
   "source": [
    "2.b. What are the relative proportions of no and yes for deposit feature? (inspect also other qualitative variables)"
   ]
  },
  {
   "cell_type": "code",
   "execution_count": 17,
   "metadata": {},
   "outputs": [
    {
     "name": "stdout",
     "output_type": "stream",
     "text": [
      "proportion of 'yes' is  0.4738398136534671\n"
     ]
    }
   ],
   "source": [
    "print('proportion of \\'yes\\' is ', df.filter(df[\"deposit\"] == \"yes\").count() / df.count())\n"
   ]
  },
  {
   "cell_type": "markdown",
   "metadata": {},
   "source": [
    "2.c. Get descriptive statistics for numerical variables\n",
    " - Use relevant visualizations to inspect variables and relations between them\n",
    "\n",
    "Answer the following questions\n",
    "\n",
    "- Who is the client with the biggest balance?\n",
    "- What is the proportion of clients who's balance is more than twice the average?\n",
    "- Do people with higher education have a better chance to deposit?\n",
    "- What are the best predictors for deposit?"
   ]
  },
  {
   "cell_type": "code",
   "execution_count": 6,
   "metadata": {},
   "outputs": [
    {
     "name": "stdout",
     "output_type": "stream",
     "text": [
      "+---+-------+-------+---------+-------+-------+-------+----+--------+---+-----+--------+--------+-----+--------+--------+-------+\n",
      "|age|job    |marital|education|default|balance|housing|loan|contact |day|month|duration|campaign|pdays|previous|poutcome|deposit|\n",
      "+---+-------+-------+---------+-------+-------+-------+----+--------+---+-----+--------+--------+-----+--------+--------+-------+\n",
      "|18 |student|single |unknown  |no     |108    |no     |no  |cellular|10 |aug  |167     |1       |-1   |0       |unknown |yes    |\n",
      "|18 |student|single |primary  |no     |608    |no     |no  |cellular|12 |aug  |267     |1       |-1   |0       |unknown |yes    |\n",
      "|18 |student|single |unknown  |no     |108    |no     |no  |cellular|8  |sep  |169     |1       |-1   |0       |unknown |yes    |\n",
      "|18 |student|single |primary  |no     |608    |no     |no  |cellular|13 |nov  |210     |1       |93   |1       |success |yes    |\n",
      "|18 |student|single |unknown  |no     |108    |no     |no  |cellular|9  |feb  |92      |1       |183  |1       |success |yes    |\n",
      "|18 |student|single |unknown  |no     |348    |no     |no  |cellular|5  |may  |443     |4       |-1   |0       |unknown |yes    |\n",
      "|18 |student|single |unknown  |no     |3      |no     |no  |cellular|25 |aug  |130     |2       |-1   |0       |unknown |yes    |\n",
      "|18 |student|single |secondary|no     |5      |no     |no  |cellular|24 |aug  |143     |2       |-1   |0       |unknown |no     |\n",
      "|19 |student|single |unknown  |no     |108    |no     |no  |cellular|9  |mar  |273     |2       |182  |1       |success |yes    |\n",
      "|19 |student|single |secondary|no     |394    |no     |no  |cellular|5  |apr  |327     |3       |-1   |0       |unknown |yes    |\n",
      "+---+-------+-------+---------+-------+-------+-------+----+--------+---+-----+--------+--------+-----+--------+--------+-------+\n",
      "only showing top 10 rows\n",
      "\n"
     ]
    }
   ],
   "source": [
    "df.orderBy('age').show(10, truncate=False)"
   ]
  }
 ],
 "metadata": {
  "kernelspec": {
   "display_name": "Python 3",
   "language": "python",
   "name": "python3"
  },
  "language_info": {
   "codemirror_mode": {
    "name": "ipython",
    "version": 3
   },
   "file_extension": ".py",
   "mimetype": "text/x-python",
   "name": "python",
   "nbconvert_exporter": "python",
   "pygments_lexer": "ipython3",
   "version": "3.10.12"
  }
 },
 "nbformat": 4,
 "nbformat_minor": 2
}
