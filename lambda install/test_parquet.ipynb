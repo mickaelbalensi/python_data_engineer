{
 "cells": [
  {
   "cell_type": "code",
   "execution_count": 3,
   "metadata": {},
   "outputs": [],
   "source": [
    "import pandas as pd"
   ]
  },
  {
   "cell_type": "code",
   "execution_count": 1,
   "metadata": {},
   "outputs": [
    {
     "name": "stdout",
     "output_type": "stream",
     "text": [
      "Schema of the Parquet file:\n",
      "user_id: int64\n",
      "track_id: string\n",
      "listen_time: string\n",
      "-- schema metadata --\n",
      "pandas: '{\"index_columns\": [{\"kind\": \"range\", \"name\": null, \"start\": 0, \"' + 612\n"
     ]
    }
   ],
   "source": [
    "import pyarrow.parquet as pq\n",
    "\n",
    "# Path to your Parquet file\n",
    "parquet_file = 'streams1.parquet'\n",
    "\n",
    "# Read the Parquet file\n",
    "table = pq.read_table(parquet_file)\n",
    "\n",
    "# Get the schema of the Parquet file\n",
    "schema = table.schema\n",
    "print(\"Schema of the Parquet file:\")\n",
    "print(schema)\n"
   ]
  },
  {
   "cell_type": "code",
   "execution_count": 5,
   "metadata": {},
   "outputs": [
    {
     "data": {
      "text/html": [
       "<div>\n",
       "<style scoped>\n",
       "    .dataframe tbody tr th:only-of-type {\n",
       "        vertical-align: middle;\n",
       "    }\n",
       "\n",
       "    .dataframe tbody tr th {\n",
       "        vertical-align: top;\n",
       "    }\n",
       "\n",
       "    .dataframe thead th {\n",
       "        text-align: right;\n",
       "    }\n",
       "</style>\n",
       "<table border=\"1\" class=\"dataframe\">\n",
       "  <thead>\n",
       "    <tr style=\"text-align: right;\">\n",
       "      <th></th>\n",
       "      <th>user_id</th>\n",
       "      <th>track_id</th>\n",
       "      <th>listen_time</th>\n",
       "    </tr>\n",
       "  </thead>\n",
       "  <tbody>\n",
       "    <tr>\n",
       "      <th>0</th>\n",
       "      <td>26213</td>\n",
       "      <td>4dBa8T7oDV9WvGr7kVS4Ez</td>\n",
       "      <td>2024-06-25 17:43:13</td>\n",
       "    </tr>\n",
       "    <tr>\n",
       "      <th>1</th>\n",
       "      <td>6937</td>\n",
       "      <td>4osgfFTICMkcGbbigdsa53</td>\n",
       "      <td>2024-06-25 07:26:00</td>\n",
       "    </tr>\n",
       "    <tr>\n",
       "      <th>2</th>\n",
       "      <td>21407</td>\n",
       "      <td>2LoQWx41KeqOrSFra089YS</td>\n",
       "      <td>2024-06-25 13:25:26</td>\n",
       "    </tr>\n",
       "    <tr>\n",
       "      <th>3</th>\n",
       "      <td>47146</td>\n",
       "      <td>7cfG5lFeJWEgpSnubt4O4W</td>\n",
       "      <td>2024-06-25 18:17:50</td>\n",
       "    </tr>\n",
       "    <tr>\n",
       "      <th>4</th>\n",
       "      <td>38594</td>\n",
       "      <td>6tilCYbheGMHo3Hw4F22hF</td>\n",
       "      <td>2024-06-25 17:33:21</td>\n",
       "    </tr>\n",
       "  </tbody>\n",
       "</table>\n",
       "</div>"
      ],
      "text/plain": [
       "   user_id                track_id          listen_time\n",
       "0    26213  4dBa8T7oDV9WvGr7kVS4Ez  2024-06-25 17:43:13\n",
       "1     6937  4osgfFTICMkcGbbigdsa53  2024-06-25 07:26:00\n",
       "2    21407  2LoQWx41KeqOrSFra089YS  2024-06-25 13:25:26\n",
       "3    47146  7cfG5lFeJWEgpSnubt4O4W  2024-06-25 18:17:50\n",
       "4    38594  6tilCYbheGMHo3Hw4F22hF  2024-06-25 17:33:21"
      ]
     },
     "execution_count": 5,
     "metadata": {},
     "output_type": "execute_result"
    }
   ],
   "source": [
    "pq = pd.read_parquet('streams1.parquet')\n",
    "pq.head()"
   ]
  },
  {
   "cell_type": "code",
   "execution_count": 6,
   "metadata": {},
   "outputs": [
    {
     "data": {
      "text/html": [
       "<div>\n",
       "<style scoped>\n",
       "    .dataframe tbody tr th:only-of-type {\n",
       "        vertical-align: middle;\n",
       "    }\n",
       "\n",
       "    .dataframe tbody tr th {\n",
       "        vertical-align: top;\n",
       "    }\n",
       "\n",
       "    .dataframe thead th {\n",
       "        text-align: right;\n",
       "    }\n",
       "</style>\n",
       "<table border=\"1\" class=\"dataframe\">\n",
       "  <thead>\n",
       "    <tr style=\"text-align: right;\">\n",
       "      <th></th>\n",
       "      <th>user_id</th>\n",
       "      <th>track_id</th>\n",
       "      <th>listen_time</th>\n",
       "    </tr>\n",
       "  </thead>\n",
       "  <tbody>\n",
       "    <tr>\n",
       "      <th>0</th>\n",
       "      <td>26213</td>\n",
       "      <td>4dBa8T7oDV9WvGr7kVS4Ez</td>\n",
       "      <td>2024-06-25 17:43:13</td>\n",
       "    </tr>\n",
       "    <tr>\n",
       "      <th>1</th>\n",
       "      <td>6937</td>\n",
       "      <td>4osgfFTICMkcGbbigdsa53</td>\n",
       "      <td>2024-06-25 07:26:00</td>\n",
       "    </tr>\n",
       "    <tr>\n",
       "      <th>2</th>\n",
       "      <td>21407</td>\n",
       "      <td>2LoQWx41KeqOrSFra089YS</td>\n",
       "      <td>2024-06-25 13:25:26</td>\n",
       "    </tr>\n",
       "    <tr>\n",
       "      <th>3</th>\n",
       "      <td>47146</td>\n",
       "      <td>7cfG5lFeJWEgpSnubt4O4W</td>\n",
       "      <td>2024-06-25 18:17:50</td>\n",
       "    </tr>\n",
       "    <tr>\n",
       "      <th>4</th>\n",
       "      <td>38594</td>\n",
       "      <td>6tilCYbheGMHo3Hw4F22hF</td>\n",
       "      <td>2024-06-25 17:33:21</td>\n",
       "    </tr>\n",
       "  </tbody>\n",
       "</table>\n",
       "</div>"
      ],
      "text/plain": [
       "   user_id                track_id          listen_time\n",
       "0    26213  4dBa8T7oDV9WvGr7kVS4Ez  2024-06-25 17:43:13\n",
       "1     6937  4osgfFTICMkcGbbigdsa53  2024-06-25 07:26:00\n",
       "2    21407  2LoQWx41KeqOrSFra089YS  2024-06-25 13:25:26\n",
       "3    47146  7cfG5lFeJWEgpSnubt4O4W  2024-06-25 18:17:50\n",
       "4    38594  6tilCYbheGMHo3Hw4F22hF  2024-06-25 17:33:21"
      ]
     },
     "execution_count": 6,
     "metadata": {},
     "output_type": "execute_result"
    }
   ],
   "source": [
    "csv = pd.read_csv('streams1.csv')\n",
    "csv.head()"
   ]
  }
 ],
 "metadata": {
  "kernelspec": {
   "display_name": "Python 3.8.10 ('aws-env': venv)",
   "language": "python",
   "name": "python3"
  },
  "language_info": {
   "codemirror_mode": {
    "name": "ipython",
    "version": 3
   },
   "file_extension": ".py",
   "mimetype": "text/x-python",
   "name": "python",
   "nbconvert_exporter": "python",
   "pygments_lexer": "ipython3",
   "version": "3.8.10"
  },
  "orig_nbformat": 4,
  "vscode": {
   "interpreter": {
    "hash": "0628104b1dde8223c5bc9efe661ed17cd6a700dc561c7557e1a592572c2f058d"
   }
  }
 },
 "nbformat": 4,
 "nbformat_minor": 2
}
